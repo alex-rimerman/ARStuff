{
 "cells": [
  {
   "cell_type": "code",
   "execution_count": 3,
   "id": "e2104ba6-a503-4629-a1fc-92dc7f7648c2",
   "metadata": {},
   "outputs": [],
   "source": [
    "import pandas as pd\n",
    "import numpy as np\n",
    "import pandas as pd\n",
    "import numpy as np\n",
    "from sklearn.model_selection import train_test_split, RandomizedSearchCV\n",
    "from sklearn.metrics import mean_absolute_error\n",
    "from sklearn.metrics import mean_squared_error\n",
    "from pybaseball import statcast, cache\n",
    "#from catboost import CatBoostClassifier\n",
    "from xgboost import XGBClassifier\n",
    "import joblib\n",
    "import math\n",
    "from pybaseball import statcast\n",
    "import scipy.stats as stats\n",
    "#from catboost import Pool\n",
    "#import optuna\n",
    "from sklearn.metrics import log_loss\n",
    "from sklearn.metrics import accuracy_score, precision_score\n",
    "import sqlite3\n",
    "cache.enable()"
   ]
  },
  {
   "cell_type": "code",
   "execution_count": 4,
   "id": "ea8b7f20-22cd-495c-a37c-b20a1bd71c9f",
   "metadata": {},
   "outputs": [],
   "source": [
    "data = pd.read_csv('21-24pitching.csv')"
   ]
  },
  {
   "cell_type": "code",
   "execution_count": 7,
   "id": "a808ec45-bc3c-4de7-8358-cd29656d98db",
   "metadata": {},
   "outputs": [
    {
     "data": {
      "text/plain": [
       "np.float64(88.98224756397475)"
      ]
     },
     "execution_count": 7,
     "metadata": {},
     "output_type": "execute_result"
    }
   ],
   "source": [
    "data['release_speed'].mean()"
   ]
  },
  {
   "cell_type": "code",
   "execution_count": 35,
   "id": "7245c98c-f37b-49ab-99a3-3d94febca015",
   "metadata": {},
   "outputs": [
    {
     "name": "stdout",
     "output_type": "stream",
     "text": [
      "        pitch_type   game_date  release_speed  release_pos_x  release_pos_z  \\\n",
      "0               KC  2024-10-30           77.5          -1.11           5.65   \n",
      "1               KC  2024-10-30           78.7          -1.01           5.73   \n",
      "2               FC  2024-10-30           93.1          -1.19           5.53   \n",
      "3               KC  2024-10-30           78.5          -1.19           5.70   \n",
      "4               KC  2024-10-30           77.4          -1.23           5.78   \n",
      "...            ...         ...            ...            ...            ...   \n",
      "2990317         FF  2021-03-15           90.1          -2.72           6.10   \n",
      "2990318         SI  2021-03-15           90.3          -2.71           6.05   \n",
      "2990319         SI  2021-03-15           91.0          -2.93           6.07   \n",
      "2990320         CH  2021-03-15           78.2          -2.45           6.17   \n",
      "2990321         SL  2021-03-15           83.7          -2.48           6.17   \n",
      "\n",
      "             player_name  batter  pitcher     events              description  \\\n",
      "0        Buehler, Walker  657077   621111  strikeout  swinging_strike_blocked   \n",
      "1        Buehler, Walker  657077   621111        NaN          swinging_strike   \n",
      "2        Buehler, Walker  657077   621111        NaN          swinging_strike   \n",
      "3        Buehler, Walker  657077   621111        NaN                     ball   \n",
      "4        Buehler, Walker  669224   621111  strikeout          swinging_strike   \n",
      "...                  ...     ...      ...        ...                      ...   \n",
      "2990317       Gant, John  664057   607231        NaN                     ball   \n",
      "2990318       Gant, John  664057   607231        NaN                     foul   \n",
      "2990319       Gant, John  664057   607231        NaN                     ball   \n",
      "2990320       Gant, John  664057   607231        NaN          swinging_strike   \n",
      "2990321       Gant, John  664057   607231        NaN            called_strike   \n",
      "\n",
      "         ...  pitcher_days_until_next_game  batter_days_until_next_game  \\\n",
      "0        ...                           NaN                          NaN   \n",
      "1        ...                           NaN                          NaN   \n",
      "2        ...                           NaN                          NaN   \n",
      "3        ...                           NaN                          NaN   \n",
      "4        ...                           NaN                          NaN   \n",
      "...      ...                           ...                          ...   \n",
      "2990317  ...                           NaN                          NaN   \n",
      "2990318  ...                           NaN                          NaN   \n",
      "2990319  ...                           NaN                          NaN   \n",
      "2990320  ...                           NaN                          NaN   \n",
      "2990321  ...                           NaN                          NaN   \n",
      "\n",
      "         api_break_z_with_gravity  api_break_x_arm  api_break_x_batter_in  \\\n",
      "0                            5.23            -1.08                   1.08   \n",
      "1                            5.28            -1.05                   1.05   \n",
      "2                            1.89            -0.53                   0.53   \n",
      "3                            5.16            -1.05                   1.05   \n",
      "4                            5.20            -1.08                   1.08   \n",
      "...                           ...              ...                    ...   \n",
      "2990317                      1.55             0.90                  -0.90   \n",
      "2990318                      1.68             1.18                  -1.18   \n",
      "2990319                      1.34             1.23                  -1.23   \n",
      "2990320                      3.05             0.92                  -0.92   \n",
      "2990321                      2.60            -0.25                   0.25   \n",
      "\n",
      "        arm_angle  velo horiz_dif vert_dif        Stuff+  \n",
      "0            53.2 -17.8      1.39    -2.84  20942.326431  \n",
      "1            54.2 -16.6      1.36    -3.00   7587.799432  \n",
      "2            44.8  -2.2      0.84    -0.74   3336.262969  \n",
      "3            51.9 -16.8      1.36    -2.87  -4552.679659  \n",
      "4            50.0 -17.9      1.39    -2.80  63737.515225  \n",
      "...           ...   ...       ...      ...           ...  \n",
      "2990317       NaN  -1.8      0.10    -0.10           NaN  \n",
      "2990318       NaN  -1.6     -0.18    -0.25           NaN  \n",
      "2990319       NaN  -0.9     -0.23     0.06           NaN  \n",
      "2990320       NaN -13.7      0.08    -0.71           NaN  \n",
      "2990321       NaN  -8.2      1.25    -0.75           NaN  \n",
      "\n",
      "[2987133 rows x 117 columns]\n"
     ]
    }
   ],
   "source": [
    "data = data[~data['pitch_name'].isin(['Pitch Out', 'Eephus', 'Knuckleball'])]\n",
    "data.loc[data['p_throws'] == 'L', 'pfx_x'] *= -1\n",
    "data.loc[data['p_throws'] == 'L', 'release_pos_x'] *= -1\n",
    "data.loc[data['p_throws'] == 'L', 'spin_axis'] = 360 - data.loc[data['p_throws'] == 'L', 'spin_axis']\n",
    "fastballs = ['4-Seam Fastball', 'Sinker']\n",
    "offspeed = ['Split-Finger', 'Changeup', 'Forkball']\n",
    "breaking = ['Curveball', 'Slider', 'Cutter', 'Knuckle Curve', 'Sweeper', 'Screwball', 'Slow Curve']\n",
    "print(data)"
   ]
  },
  {
   "cell_type": "code",
   "execution_count": 18,
   "id": "7d9c9ee4-0b64-4a0c-b947-cde7e6fbb7a8",
   "metadata": {},
   "outputs": [],
   "source": [
    "def get_pitch_data(data, pitch_name, players):\n",
    "    pitch_data = data.loc[(data['pitch_name'] == pitch_name) & (data['player_name'].isin(players))]\n",
    "    grouped_data = pitch_data.groupby('player_name').agg({\n",
    "        'release_speed': 'median',\n",
    "        'pfx_x': 'median',\n",
    "        'pfx_z': 'median'\n",
    "    }).reset_index()\n",
    "    \n",
    "    return grouped_data"
   ]
  },
  {
   "cell_type": "code",
   "execution_count": 19,
   "id": "941b9804-d06a-41af-ab43-7e6ed4fee691",
   "metadata": {},
   "outputs": [],
   "source": [
    "all = data['player_name'].unique()\n",
    "\n",
    "# pitch type: Fastballs\n",
    "\n",
    "fastball_data = get_pitch_data(data, '4-Seam Fastball', all)\n",
    "fastball_data = fastball_data.dropna(subset=['release_speed'])\n",
    "fastball_velo = dict(zip(fastball_data['player_name'], fastball_data['release_speed']))\n",
    "fastball_horiz = dict(zip(fastball_data['player_name'], fastball_data['pfx_x']))\n",
    "fastball_vert = dict(zip(fastball_data['player_name'], fastball_data['pfx_z']))\n",
    "\n",
    "sinker_data = get_pitch_data(data, 'Sinker', all)\n",
    "sinker_data = sinker_data.dropna(subset=['release_speed'])\n",
    "sinker_velo = dict(zip(sinker_data['player_name'], sinker_data['release_speed']))\n",
    "sinker_horiz = dict(zip(sinker_data['player_name'], sinker_data['pfx_x']))\n",
    "sinker_vert = dict(zip(sinker_data['player_name'], sinker_data['pfx_z']))\n",
    "\n",
    "cutter_data = get_pitch_data(data, 'Cutter', all)\n",
    "cutter_data = cutter_data.dropna(subset=['release_speed'])\n",
    "cutter_velo = dict(zip(cutter_data['player_name'], cutter_data['release_speed']))\n",
    "cutter_horiz = dict(zip(cutter_data['player_name'], cutter_data['pfx_x']))\n",
    "cutter_vert = dict(zip(cutter_data['player_name'], cutter_data['pfx_z']))"
   ]
  },
  {
   "cell_type": "code",
   "execution_count": 24,
   "id": "8ebeab78-beb5-4401-a5a4-32c37a2e6c1d",
   "metadata": {},
   "outputs": [],
   "source": [
    "pitch_data = {\n",
    "    '4-Seam Fastball': {\n",
    "        'velo': fastball_velo,\n",
    "        'horiz': fastball_horiz,\n",
    "        'vert': fastball_vert\n",
    "    },\n",
    "    'Sinker': {\n",
    "        'velo': sinker_velo,\n",
    "        'horiz': sinker_horiz,\n",
    "        'vert': sinker_vert\n",
    "    },\n",
    "    'Cutter': {\n",
    "        'velo': cutter_velo,\n",
    "        'horiz': cutter_horiz,\n",
    "        'vert': cutter_vert\n",
    "    }\n",
    "}\n",
    "\n",
    "def calculate_differences(row):\n",
    "    player_name = row['player_name']\n",
    "    for pitch_type in ['4-Seam Fastball', 'Sinker', 'Cutter']:\n",
    "        if player_name in pitch_data[pitch_type]['velo']:\n",
    "            velo_dif = row['release_speed'] - pitch_data[pitch_type]['velo'][player_name]\n",
    "            horiz_dif = row['pfx_x'] - pitch_data[pitch_type]['horiz'][player_name]\n",
    "            vert_dif = row['pfx_z'] - pitch_data[pitch_type]['vert'][player_name]\n",
    "            return velo_dif, horiz_dif, vert_dif\n",
    "\n",
    "    return np.nan, np.nan, np.nan\n",
    "\n",
    "data['velo'], data['horiz_dif'], data['vert_dif'] = zip(*data.apply(calculate_differences, axis=1))"
   ]
  },
  {
   "cell_type": "code",
   "execution_count": 52,
   "id": "741a21e0-e732-4188-bd90-ae4b31538146",
   "metadata": {},
   "outputs": [
    {
     "name": "stdout",
     "output_type": "stream",
     "text": [
      "107.90454176810843\n",
      "106.01141760315578\n"
     ]
    }
   ],
   "source": [
    "league_avg_run_exp = data['delta_run_exp'].mean()\n",
    "clase = data[data['player_name'] == \"Clase, Emmanuel\"]\n",
    "clase_cutter = clase[clase['pitch_name'] == 'Cutter']\n",
    "clase_cutter_run_exp = clase_cutter['delta_run_exp'].mean()\n",
    "clase_cutter_stuff = 100 + ((clase_cutter_run_exp/league_avg_run_exp) / 100)\n",
    "print(clase_cutter_stuff)\n",
    "\n",
    "burnes = data[data['player_name'] == \"Burnes, Corbin\"]\n",
    "clase_cutter = burnes[burnes['pitch_name'] == 'Cutter']\n",
    "clase_cutter_run_exp = clase_cutter['delta_run_exp'].mean()\n",
    "clase_cutter_stuff = 100 + ((clase_cutter_run_exp/league_avg_run_exp) / 100)\n",
    "print(clase_cutter_stuff)"
   ]
  },
  {
   "cell_type": "code",
   "execution_count": null,
   "id": "31d9f6a2-ac34-43ca-a896-31fff0d1ce67",
   "metadata": {},
   "outputs": [],
   "source": []
  }
 ],
 "metadata": {
  "kernelspec": {
   "display_name": "Python 3 (ipykernel)",
   "language": "python",
   "name": "python3"
  },
  "language_info": {
   "codemirror_mode": {
    "name": "ipython",
    "version": 3
   },
   "file_extension": ".py",
   "mimetype": "text/x-python",
   "name": "python",
   "nbconvert_exporter": "python",
   "pygments_lexer": "ipython3",
   "version": "3.12.5"
  }
 },
 "nbformat": 4,
 "nbformat_minor": 5
}
