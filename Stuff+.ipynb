{
 "cells": [
  {
   "cell_type": "code",
   "execution_count": 1,
   "id": "e2104ba6-a503-4629-a1fc-92dc7f7648c2",
   "metadata": {},
   "outputs": [],
   "source": [
    "import pandas as pd\n",
    "import numpy as np\n",
    "import pandas as pd\n",
    "import numpy as np\n",
    "from sklearn.model_selection import train_test_split, RandomizedSearchCV\n",
    "from sklearn.metrics import mean_absolute_error\n",
    "from sklearn.metrics import mean_squared_error\n",
    "from pybaseball import statcast, cache\n",
    "#from catboost import CatBoostClassifier\n",
    "from xgboost import XGBClassifier\n",
    "import joblib\n",
    "import math\n",
    "from pybaseball import statcast\n",
    "import scipy.stats as stats\n",
    "#from catboost import Pool\n",
    "#import optuna\n",
    "from sklearn.metrics import log_loss\n",
    "from sklearn.metrics import accuracy_score, precision_score\n",
    "import sqlite3\n",
    "cache.enable()"
   ]
  },
  {
   "cell_type": "code",
   "execution_count": 2,
   "id": "ea8b7f20-22cd-495c-a37c-b20a1bd71c9f",
   "metadata": {},
   "outputs": [],
   "source": [
    "data = pd.read_csv('21-24pitching.csv')"
   ]
  },
  {
   "cell_type": "code",
   "execution_count": 3,
   "id": "a808ec45-bc3c-4de7-8358-cd29656d98db",
   "metadata": {},
   "outputs": [
    {
     "data": {
      "text/plain": [
       "np.float64(88.98224756397475)"
      ]
     },
     "execution_count": 3,
     "metadata": {},
     "output_type": "execute_result"
    }
   ],
   "source": [
    "data['release_speed'].mean()"
   ]
  },
  {
   "cell_type": "code",
   "execution_count": 4,
   "id": "7245c98c-f37b-49ab-99a3-3d94febca015",
   "metadata": {},
   "outputs": [
    {
     "name": "stdout",
     "output_type": "stream",
     "text": [
      "        pitch_type   game_date  release_speed  release_pos_x  release_pos_z  \\\n",
      "0               KC  2024-10-30           77.5          -1.11           5.65   \n",
      "1               KC  2024-10-30           78.7          -1.01           5.73   \n",
      "2               FC  2024-10-30           93.1          -1.19           5.53   \n",
      "3               KC  2024-10-30           78.5          -1.19           5.70   \n",
      "4               KC  2024-10-30           77.4          -1.23           5.78   \n",
      "...            ...         ...            ...            ...            ...   \n",
      "2990317         FF  2021-03-15           90.1          -2.72           6.10   \n",
      "2990318         SI  2021-03-15           90.3          -2.71           6.05   \n",
      "2990319         SI  2021-03-15           91.0          -2.93           6.07   \n",
      "2990320         CH  2021-03-15           78.2          -2.45           6.17   \n",
      "2990321         SL  2021-03-15           83.7          -2.48           6.17   \n",
      "\n",
      "             player_name  batter  pitcher     events              description  \\\n",
      "0        Buehler, Walker  657077   621111  strikeout  swinging_strike_blocked   \n",
      "1        Buehler, Walker  657077   621111        NaN          swinging_strike   \n",
      "2        Buehler, Walker  657077   621111        NaN          swinging_strike   \n",
      "3        Buehler, Walker  657077   621111        NaN                     ball   \n",
      "4        Buehler, Walker  669224   621111  strikeout          swinging_strike   \n",
      "...                  ...     ...      ...        ...                      ...   \n",
      "2990317       Gant, John  664057   607231        NaN                     ball   \n",
      "2990318       Gant, John  664057   607231        NaN                     foul   \n",
      "2990319       Gant, John  664057   607231        NaN                     ball   \n",
      "2990320       Gant, John  664057   607231        NaN          swinging_strike   \n",
      "2990321       Gant, John  664057   607231        NaN            called_strike   \n",
      "\n",
      "         ...  n_thruorder_pitcher  n_priorpa_thisgame_player_at_bat  \\\n",
      "0        ...                    1                                 4   \n",
      "1        ...                    1                                 4   \n",
      "2        ...                    1                                 4   \n",
      "3        ...                    1                                 4   \n",
      "4        ...                    1                                 4   \n",
      "...      ...                  ...                               ...   \n",
      "2990317  ...                    1                                 0   \n",
      "2990318  ...                    1                                 0   \n",
      "2990319  ...                    1                                 0   \n",
      "2990320  ...                    1                                 0   \n",
      "2990321  ...                    1                                 0   \n",
      "\n",
      "         pitcher_days_since_prev_game  batter_days_since_prev_game  \\\n",
      "0                                 2.0                          1.0   \n",
      "1                                 2.0                          1.0   \n",
      "2                                 2.0                          1.0   \n",
      "3                                 2.0                          1.0   \n",
      "4                                 2.0                          1.0   \n",
      "...                               ...                          ...   \n",
      "2990317                           NaN                          NaN   \n",
      "2990318                           NaN                          NaN   \n",
      "2990319                           NaN                          NaN   \n",
      "2990320                           NaN                          NaN   \n",
      "2990321                           NaN                          NaN   \n",
      "\n",
      "         pitcher_days_until_next_game batter_days_until_next_game  \\\n",
      "0                                 NaN                         NaN   \n",
      "1                                 NaN                         NaN   \n",
      "2                                 NaN                         NaN   \n",
      "3                                 NaN                         NaN   \n",
      "4                                 NaN                         NaN   \n",
      "...                               ...                         ...   \n",
      "2990317                           NaN                         NaN   \n",
      "2990318                           NaN                         NaN   \n",
      "2990319                           NaN                         NaN   \n",
      "2990320                           NaN                         NaN   \n",
      "2990321                           NaN                         NaN   \n",
      "\n",
      "        api_break_z_with_gravity api_break_x_arm api_break_x_batter_in  \\\n",
      "0                           5.23           -1.08                  1.08   \n",
      "1                           5.28           -1.05                  1.05   \n",
      "2                           1.89           -0.53                  0.53   \n",
      "3                           5.16           -1.05                  1.05   \n",
      "4                           5.20           -1.08                  1.08   \n",
      "...                          ...             ...                   ...   \n",
      "2990317                     1.55            0.90                 -0.90   \n",
      "2990318                     1.68            1.18                 -1.18   \n",
      "2990319                     1.34            1.23                 -1.23   \n",
      "2990320                     3.05            0.92                 -0.92   \n",
      "2990321                     2.60           -0.25                  0.25   \n",
      "\n",
      "        arm_angle  \n",
      "0            53.2  \n",
      "1            54.2  \n",
      "2            44.8  \n",
      "3            51.9  \n",
      "4            50.0  \n",
      "...           ...  \n",
      "2990317       NaN  \n",
      "2990318       NaN  \n",
      "2990319       NaN  \n",
      "2990320       NaN  \n",
      "2990321       NaN  \n",
      "\n",
      "[2987133 rows x 113 columns]\n"
     ]
    }
   ],
   "source": [
    "data = data[~data['pitch_name'].isin(['Pitch Out', 'Eephus', 'Knuckleball'])]\n",
    "data.loc[data['p_throws'] == 'L', 'pfx_x'] *= -1\n",
    "data.loc[data['p_throws'] == 'L', 'release_pos_x'] *= -1\n",
    "data.loc[data['p_throws'] == 'L', 'spin_axis'] = 360 - data.loc[data['p_throws'] == 'L', 'spin_axis']\n",
    "fastballs = ['4-Seam Fastball', 'Sinker']\n",
    "offspeed = ['Split-Finger', 'Changeup', 'Forkball']\n",
    "breaking = ['Curveball', 'Slider', 'Cutter', 'Knuckle Curve', 'Sweeper', 'Screwball', 'Slow Curve']\n",
    "print(data)"
   ]
  },
  {
   "cell_type": "code",
   "execution_count": 5,
   "id": "7d9c9ee4-0b64-4a0c-b947-cde7e6fbb7a8",
   "metadata": {},
   "outputs": [],
   "source": [
    "def get_pitch_data(data, pitch_name, players):\n",
    "    pitch_data = data.loc[(data['pitch_name'] == pitch_name) & (data['player_name'].isin(players))]\n",
    "    grouped_data = pitch_data.groupby('player_name').agg({\n",
    "        'release_speed': 'median',\n",
    "        'pfx_x': 'median',\n",
    "        'pfx_z': 'median'\n",
    "    }).reset_index()\n",
    "    \n",
    "    return grouped_data"
   ]
  },
  {
   "cell_type": "code",
   "execution_count": 6,
   "id": "941b9804-d06a-41af-ab43-7e6ed4fee691",
   "metadata": {},
   "outputs": [],
   "source": [
    "all = data['player_name'].unique()\n",
    "\n",
    "# pitch type: Fastballs\n",
    "\n",
    "fastball_data = get_pitch_data(data, '4-Seam Fastball', all)\n",
    "fastball_data = fastball_data.dropna(subset=['release_speed'])\n",
    "fastball_velo = dict(zip(fastball_data['player_name'], fastball_data['release_speed']))\n",
    "fastball_horiz = dict(zip(fastball_data['player_name'], fastball_data['pfx_x']))\n",
    "fastball_vert = dict(zip(fastball_data['player_name'], fastball_data['pfx_z']))\n",
    "\n",
    "sinker_data = get_pitch_data(data, 'Sinker', all)\n",
    "sinker_data = sinker_data.dropna(subset=['release_speed'])\n",
    "sinker_velo = dict(zip(sinker_data['player_name'], sinker_data['release_speed']))\n",
    "sinker_horiz = dict(zip(sinker_data['player_name'], sinker_data['pfx_x']))\n",
    "sinker_vert = dict(zip(sinker_data['player_name'], sinker_data['pfx_z']))\n",
    "\n",
    "cutter_data = get_pitch_data(data, 'Cutter', all)\n",
    "cutter_data = cutter_data.dropna(subset=['release_speed'])\n",
    "cutter_velo = dict(zip(cutter_data['player_name'], cutter_data['release_speed']))\n",
    "cutter_horiz = dict(zip(cutter_data['player_name'], cutter_data['pfx_x']))\n",
    "cutter_vert = dict(zip(cutter_data['player_name'], cutter_data['pfx_z']))"
   ]
  },
  {
   "cell_type": "code",
   "execution_count": 7,
   "id": "8ebeab78-beb5-4401-a5a4-32c37a2e6c1d",
   "metadata": {},
   "outputs": [],
   "source": [
    "pitch_data = {\n",
    "    '4-Seam Fastball': {\n",
    "        'velo': fastball_velo,\n",
    "        'horiz': fastball_horiz,\n",
    "        'vert': fastball_vert\n",
    "    },\n",
    "    'Sinker': {\n",
    "        'velo': sinker_velo,\n",
    "        'horiz': sinker_horiz,\n",
    "        'vert': sinker_vert\n",
    "    },\n",
    "    'Cutter': {\n",
    "        'velo': cutter_velo,\n",
    "        'horiz': cutter_horiz,\n",
    "        'vert': cutter_vert\n",
    "    }\n",
    "}\n",
    "\n",
    "def calculate_differences(row):\n",
    "    player_name = row['player_name']\n",
    "    for pitch_type in ['4-Seam Fastball', 'Sinker', 'Cutter']:\n",
    "        if player_name in pitch_data[pitch_type]['velo']:\n",
    "            velo_dif = row['release_speed'] - pitch_data[pitch_type]['velo'][player_name]\n",
    "            horiz_dif = row['pfx_x'] - pitch_data[pitch_type]['horiz'][player_name]\n",
    "            vert_dif = row['pfx_z'] - pitch_data[pitch_type]['vert'][player_name]\n",
    "            return velo_dif, horiz_dif, vert_dif\n",
    "\n",
    "    return np.nan, np.nan, np.nan\n",
    "\n",
    "data['velo'], data['horiz_dif'], data['vert_dif'] = zip(*data.apply(calculate_differences, axis=1))"
   ]
  },
  {
   "cell_type": "code",
   "execution_count": 31,
   "id": "741a21e0-e732-4188-bd90-ae4b31538146",
   "metadata": {},
   "outputs": [
    {
     "name": "stdout",
     "output_type": "stream",
     "text": [
      "127.87320787510339\n",
      "121.1976225051833\n"
     ]
    }
   ],
   "source": [
    "league_avg_run_exp = data['delta_run_exp'].mean()\n",
    "league_avg_run_exp = data_pitch_avg_rundiff_dict['Cutter']\n",
    "\n",
    "clase = data[data['player_name'] == \"Clase, Emmanuel\"]\n",
    "clase_cutter = clase[clase['pitch_name'] == 'Cutter']\n",
    "clase_cutter_run_exp = clase_cutter['delta_run_exp'].mean()\n",
    "clase_cutter_stuff = 100 + ((clase_cutter_run_exp/league_avg_run_exp) / 1)\n",
    "print(clase_cutter_stuff)\n",
    "\n",
    "burnes = data[data['player_name'] == \"Burnes, Corbin\"]\n",
    "clase_cutter = burnes[burnes['pitch_name'] == 'Cutter']\n",
    "clase_cutter_run_exp = clase_cutter['delta_run_exp'].mean()\n",
    "clase_cutter_stuff = 100 + ((clase_cutter_run_exp/league_avg_run_exp) / 1)\n",
    "print(clase_cutter_stuff)"
   ]
  },
  {
   "cell_type": "code",
   "execution_count": 34,
   "id": "31d9f6a2-ac34-43ca-a896-31fff0d1ce67",
   "metadata": {},
   "outputs": [
    {
     "name": "stdout",
     "output_type": "stream",
     "text": [
      "[np.float64(105.23558160779537), np.float64(101.89694985789687), np.float64(100.8340657422376), np.float64(98.86183008526187), np.float64(115.93437880633373), np.float64(104.29276458422574), np.float64(100.0), np.float64(103.71802172147787), np.float64(102.33576896494635), np.float64(98.86183008526187), np.float64(101.74519386926512), np.float64(115.4032328461226), np.float64(102.27264007400186), np.float64(103.86977771010962), np.float64(105.91741876386075), np.float64(102.14638229211286), np.float64(104.32967087050139), np.float64(81.11684647947123), np.float64(105.46018896979146), np.float64(112.37278468807247), np.float64(99.2982207742688), np.float64(99.7518097860219), np.float64(103.12774653339102), np.float64(93.66110035899422), np.float64(106.06037353067163), np.float64(98.03994550574163), np.float64(102.33538407826529), np.float64(98.20675865418916), np.float64(76.70543924148095), np.float64(130.5543832171361), np.float64(102.04346106848213), np.float64(97.91674659883162), np.float64(102.9220424484774), np.float64(100.31564445472247), np.float64(95.39159096105179), np.float64(100.74749923100585), np.float64(162.40187060071335), np.float64(93.66110035899422), np.float64(100.61159027991387), np.float64(99.00980621347277), np.float64(99.50490310673639), np.float64(99.67964318671179), np.float64(96.43724392494617), np.float64(100.0), np.float64(99.33987080898186), np.float64(100.4756813288219), np.float64(100.39801907105506), np.float64(93.81360765596376), np.float64(99.75730544447862), np.float64(101.6211996308828), np.float64(99.79613657336205), np.float64(100.4756813288219), np.float64(104.43806407289556), np.float64(95.83565026712384), np.float64(93.93962646932837), np.float64(91.47759972249303), np.float64(101.0436966749063), np.float64(103.15644454722481), np.float64(76.07415033203598), np.float64(108.15127103101827), np.float64(53.78965182862886), np.float64(121.77946737585114), np.float64(90.3412796854921), np.float64(101.64904074635197), np.float64(91.47759972249303), np.float64(104.04024902044775), np.float64(102.59880472051671), np.float64(103.24589665895861), np.float64(101.70122558009729), np.float64(100.96020094091381), np.float64(107.03451558886852), np.float64(104.31046726736305), np.float64(100.24005023522845), np.float64(99.65558009728092), np.float64(101.2134727776069), np.float64(101.41791176180392), np.float64(100.91747231646136), np.float64(102.65141341966884), np.float64(99.74759766225776), np.float64(99.85438326668718), np.float64(101.37850507536143), np.float64(101.70448005550139), np.float64(100.37860350661335), np.float64(99.37445069332179), np.float64(100.22327899107967), np.float64(101.41733620424485), np.float64(100.0), np.float64(96.90668434371969), np.float64(100.32035681328821), np.float64(104.60148877268533), np.float64(100.0), np.float64(98.55354044909258), np.float64(99.75730544447862), np.float64(116.27290160061706), np.float64(101.0348085694951), np.float64(94.35155481631475), np.float64(87.89618889210301), np.float64(91.39284543438437), np.float64(94.35155481631475), np.float64(96.23436987754316), np.float64(90.72041148394564), np.float64(100.44878957020971), np.float64(99.04082439642676), np.float64(98.73742218111008), np.float64(100.15655450123595), np.float64(105.75505362143946), np.float64(101.74519386926512), np.float64(116.54140276086073), np.float64(100.24005023522845), np.float64(104.43806407289556), np.float64(163.88122529167853), np.float64(109.40620475072991), np.float64(101.58236850199938), np.float64(109.27958851605436), np.float64(90.5859246938579), np.float64(94.35155481631475), np.float64(82.92017765885647), np.float64(99.15333844314037), np.float64(102.58828452872434), np.float64(108.87612814579113), np.float64(99.45785726754556), np.float64(106.05190555394849), np.float64(103.90405051218605), np.float64(74.1802836037011), np.float64(119.50058456272292), np.float64(94.31839981499536), np.float64(41.22927273165575), np.float64(100.0), np.float64(100.0), np.float64(97.2405104813464), np.float64(90.98938506412114), np.float64(109.95202246649308), np.float64(101.16023991125208), np.float64(91.66181901455985), np.float64(55.21589890078115), np.float64(95.2022042882183), np.float64(98.2753190508415), np.float64(107.80023382508917), np.float64(99.02790710138339), np.float64(99.46691679753283), np.float64(96.14913765238573), np.float64(98.61116439922108), np.float64(101.214047909054), np.float64(91.03569748588156), np.float64(102.04346106848213), np.float64(97.19251421031262), np.float64(101.33450518758016), np.float64(101.5782222736124), np.float64(111.07818717011773), np.float64(102.04346106848213), np.float64(97.91674659883162), np.float64(61.049474287245914), np.float64(90.78318192210358), np.float64(92.04575974099349), np.float64(105.61847129406016), np.float64(114.33025824440061), np.float64(94.19214203310636), np.float64(98.00877744960792), np.float64(104.41902236611473), np.float64(99.34148545577585), np.float64(109.40620475072991), np.float64(102.65141341966884), np.float64(99.56099030385056), np.float64(97.53840991801924), np.float64(98.4217777263876), np.float64(100.69441780038946), np.float64(98.98993774488807), np.float64(101.80307553775661), np.float64(97.53797325316465), np.float64(97.97987548977612), np.float64(99.60802705700944), np.float64(86.23790177409985), np.float64(101.45196449172342), np.float64(100.51740428474754), np.float64(81.31384828042917), np.float64(95.39159096105179), np.float64(103.21115310761478), np.float64(97.41439619906343), np.float64(97.85361770788714), np.float64(95.97846630125863), np.float64(101.6413511645569), np.float64(98.785952090946), np.float64(73.73781281963198), np.float64(99.07494385454225), np.float64(91.28821304965953), np.float64(103.21115310761478), np.float64(207.25598571469885), np.float64(100.0), np.float64(90.78318192210358), np.float64(100.96020094091381), np.float64(117.34879592131901), np.float64(77.62618441409842), np.float64(96.28840744704266), np.float64(137.48372919204218), np.float64(87.81612404771225), np.float64(100.50097440395503), np.float64(104.67076815653058), np.float64(67.23610559980654), np.float64(91.54072861343752), np.float64(98.59100948887648), np.float64(104.04024902044775), np.float64(83.86639366650826), np.float64(87.75299515676775), np.float64(98.30667688628075), np.float64(104.67076815653058), np.float64(93.01922452293951), np.float64(108.60006060122797), np.float64(100.0), np.float64(105.53909358505886), np.float64(99.34247109480903), np.float64(123.23143186757456), np.float64(99.46691679753283), np.float64(79.41998155209427), np.float64(101.5782222736124), np.float64(100.0), np.float64(100.0), np.float64(99.7914835644406), np.float64(95.39159096105179), np.float64(95.1390753972738), np.float64(67.04671892697304), np.float64(97.58120934751095), np.float64(130.17560987146913), np.float64(76.70543924148095), np.float64(121.0219206845172), np.float64(100.0), np.float64(95.2022042882183), np.float64(94.88655983349582), np.float64(94.49516610123182), np.float64(103.91399123855875), np.float64(102.14638229211286), np.float64(86.42728844693335), np.float64(100.0), np.float64(95.32846207010729), np.float64(97.15919990749768), np.float64(76.70543924148095), np.float64(123.14278826634184), np.float64(104.78031364190012), np.float64(94.77892039936565), np.float64(95.2022042882183), np.float64(95.41263841769319), np.float64(99.24741194945811), np.float64(97.22232879844218), np.float64(95.4274491370167), np.float64(101.08184532265396), np.float64(100.39197294299056), np.float64(98.73742218111008), np.float64(100.94693336416744), np.float64(101.80307553775661), np.float64(97.53797325316465), np.float64(100.94693336416744), np.float64(98.54803550827658), np.float64(79.54623933398327), np.float64(99.02790710138339), np.float64(102.14638229211286), np.float64(163.12889094449608), np.float64(98.50751375488397), np.float64(99.5198995295431), np.float64(97.53797325316465), np.float64(106.5022757672831), np.float64(97.85361770788714), np.float64(102.71454231061333), np.float64(100.24005023522845), np.float64(100.1148066342397), np.float64(98.98993774488807), np.float64(90.2781507945476), np.float64(102.42809581810799), np.float64(99.60802705700944), np.float64(98.4762028546368), np.float64(100.0), np.float64(100.0), np.float64(103.71802172147787), np.float64(97.91674659883162), np.float64(110.67734296706305), np.float64(102.02258038583133), np.float64(96.44088567764565), np.float64(86.0133738308746), np.float64(98.94951251278528), np.float64(101.0348085694951), np.float64(99.34148545577585), np.float64(98.00877744960792), np.float64(103.40896011100278), np.float64(101.08184532265396), np.float64(99.32580653805623), np.float64(99.57666922157019), np.float64(100.61147779106528), np.float64(102.94763653128906), np.float64(100.95641398089698), np.float64(100.73690913282226), np.float64(92.66226650721657), np.float64(95.39159096105179), np.float64(98.44778714575736), np.float64(97.8754161591555), np.float64(103.03018676533581), np.float64(123.9015682095006), np.float64(96.13022228989038), np.float64(50.29991372310195), np.float64(97.91674659883162), np.float64(103.92010898851673), np.float64(102.68973580175489), np.float64(99.76481623420565), np.float64(92.74017754138295), np.float64(100.0), np.float64(100.13568056773782), np.float64(102.7316077953715), np.float64(101.74519386926512), np.float64(102.61837925917699), np.float64(99.67074272788793), np.float64(102.04346106848213), np.float64(97.91674659883162), np.float64(92.10888863193799), np.float64(100.53308320246717), np.float64(99.32580653805623), np.float64(100.36061510755133), np.float64(101.6413511645569), np.float64(100.94693336416744), np.float64(86.74293290165582), np.float64(96.33852432521923), np.float64(96.7804265618307), np.float64(93.322736500203), np.float64(96.50961226146975), np.float64(99.60802705700944), np.float64(161.2981531071057), np.float64(97.41171547127566), np.float64(96.50961226146975), np.float64(101.5782222736124), np.float64(206.81408347808738), np.float64(97.46001532942113), np.float64(96.7804265618307), np.float64(105.55534240311566), np.float64(96.50961226146975), np.float64(98.10305014210313), np.float64(102.61837925917699), np.float64(99.67074272788793), np.float64(96.90668434371969), np.float64(97.91674659883162), np.float64(96.14913765238573), np.float64(99.77038673152062), np.float64(98.98993774488807), np.float64(102.4145533288219), np.float64(100.94693336416744), np.float64(101.74519386926512), np.float64(85.60661286465489), np.float64(111.29689036737052), np.float64(97.98269814868384), np.float64(103.36216975219361), np.float64(100.69441780038946), np.float64(98.98993774488807), np.float64(125.01454295632044), np.float64(96.63783024780639), np.float64(140.21155023623555), np.float64(100.0), np.float64(87.08926815157655), np.float64(95.15847555684121), np.float64(101.32570670983442), np.float64(100.0), np.float64(106.58985271429947), np.float64(104.43806407289556), np.float64(105.40922661326982), np.float64(102.71454231061333), np.float64(96.96981323466419), np.float64(99.74913731648604), np.float64(78.59930596981582), np.float64(93.37146645082791), np.float64(106.06037353067163), np.float64(102.96705787439132), np.float64(100.26092416872658), np.float64(97.03294212560868), np.float64(89.02475759626411), np.float64(99.60802705700944), np.float64(97.15919990749768), np.float64(123.16830297663006), np.float64(100.0), np.float64(100.0), np.float64(100.0), np.float64(100.05446272749937), np.float64(99.96075479930192), np.float64(100.38616776971533), np.float64(97.97987548977612), np.float64(101.5782222736124), np.float64(234.27515103894316), np.float64(101.74035986687812), np.float64(99.34148545577585), np.float64(165.08588656377546), np.float64(100.0), np.float64(100.0), np.float64(100.0), np.float64(100.0), np.float64(99.56099030385056), np.float64(100.0), np.float64(100.00961106955872), np.float64(100.0), np.float64(101.45813934792491), np.float64(95.2653331791628), np.float64(100.20583707304911), np.float64(100.0), np.float64(93.37146645082791), np.float64(101.00194880791005), np.float64(100.49053743720596), np.float64(101.5782222736124), np.float64(99.96395848915482), np.float64(93.17967079196413), np.float64(100.0), np.float64(100.76826696826151), np.float64(102.33576896494635), np.float64(99.76481623420565), np.float64(98.54803550827658), np.float64(85.60661286465489), np.float64(94.69717316066233), np.float64(100.15655450123595), np.float64(98.4217777263876), np.float64(98.73742218111008), np.float64(100.94693336416744), np.float64(98.79974882385774), np.float64(100.0), np.float64(100.13568056773782), np.float64(100.0), np.float64(97.72735992599814), np.float64(100.95917560357324), np.float64(87.18483513826729), np.float64(99.35290806155808), np.float64(100.50097440395503), np.float64(100.24005023522845), np.float64(97.91674659883162), np.float64(102.50862683513964), np.float64(99.32580653805623), np.float64(98.54803550827658), np.float64(101.6413511645569), np.float64(99.76481623420565), np.float64(89.77311966699163), np.float64(90.28216367876402), np.float64(106.06037353067163), np.float64(96.08600876144125), np.float64(101.56005399136899), np.float64(100.74752587086431), np.float64(97.91674659883162), np.float64(82.51329720837458), np.float64(98.29016522841292), np.float64(95.83349319766326), np.float64(102.00175778137024), np.float64(101.01006225511193), np.float64(103.0467488336623), np.float64(100.0), np.float64(99.22119622510317), np.float64(99.52073613852504), np.float64(99.77748463574376), np.float64(102.5439005138247), np.float64(100.40223931230935), np.float64(93.24406748787541), np.float64(102.50258661115441), np.float64(99.6833435200969), np.float64(99.87162575139064), np.float64(99.25247412913569), np.float64(90.28216367876402), np.float64(110.22099604666856), np.float64(99.05858884353131), np.float64(99.58920240445002), np.float64(98.56995050791176), np.float64(101.10503824388637), np.float64(99.27984929431464), np.float64(99.8588897405234), np.float64(100.3449361898317), np.float64(99.83300853201499), np.float64(102.16369064530794), np.float64(98.54803550827658), np.float64(83.46023057254203), np.float64(102.14638229211286), np.float64(166.97975329211033), np.float64(99.46771469579778), np.float64(97.22232879844218), np.float64(102.14638229211286), np.float64(115.73495444026608), np.float64(100.22327899107967), np.float64(96.50334345771864), np.float64(100.94693336416744), np.float64(119.09712419245969), np.float64(99.57666922157019), np.float64(100.37860350661335), np.float64(100.50172536702793), np.float64(96.63783024780639), np.float64(101.41733620424485), np.float64(96.90668434371969), np.float64(100.32035681328821), np.float64(95.61647396539351), np.float64(103.34583122005829), np.float64(97.49741338884559), np.float64(94.78151662546847), np.float64(105.17656905744867), np.float64(98.90411849134837), np.float64(103.66147567478077), np.float64(106.27156708784908), np.float64(102.19504848074718), np.float64(104.41902236611473), np.float64(101.41110259476605), np.float64(114.20299154642181), np.float64(111.1106848062313), np.float64(99.24853839406745), np.float64(92.99269310516094), np.float64(101.06457060840444), np.float64(100.64709193844192), np.float64(92.6779454249362), np.float64(98.92746288093382), np.float64(103.57479324007397), np.float64(180.8265608427343), np.float64(220.9036242888821), np.float64(78.07865321569768), np.float64(105.80785796689364), np.float64(9.355903480860349), np.float64(116.2241249727355), np.float64(106.94417800389456), np.float64(99.39465592855434), np.float64(100.64709193844192), np.float64(100.35485686946815), np.float64(168.30546000194477), np.float64(96.90668434371969), np.float64(97.91674659883162), np.float64(96.1973683960381), np.float64(100.24005023522845), np.float64(99.79126066501874), np.float64(100.94693336416744), np.float64(56.69358081207568), np.float64(96.27539543427473), np.float64(97.4443364117015), np.float64(98.98087034822453), np.float64(95.32846207010729), np.float64(99.02790710138339), np.float64(113.42296455073732), np.float64(98.56995050791176), np.float64(102.14638229211286), np.float64(97.74561518220237), np.float64(99.58252133003748), np.float64(100.29223506897377), np.float64(105.78552063854077), np.float64(113.88835600778914), np.float64(100.0), np.float64(98.93383359506565), np.float64(100.76826696826151), np.float64(99.57208436328841), np.float64(100.4801004704569), np.float64(100.26092416872658), np.float64(87.68986626582327), np.float64(100.51740428474754), np.float64(93.75023979649488), np.float64(48.60450771507681), np.float64(70.07690569230886), np.float64(88.57367073904621), np.float64(77.13724568508347), np.float64(106.69166244011659), np.float64(121.52695181207316), np.float64(98.88679684190679), np.float64(99.38852220893472), np.float64(91.98263085004899), np.float64(101.74035986687812), np.float64(99.34148545577585), np.float64(130.17560987146913), np.float64(116.98167166406944), np.float64(103.18282029708341), np.float64(100.0), np.float64(100.97209289861661), np.float64(99.24741194945811), np.float64(100.6898723796634), np.float64(99.46691679753283), np.float64(92.61391975949395), np.float64(101.45196449172342), np.float64(99.79126066501874), np.float64(100.94693336416744), np.float64(102.16369064530794), np.float64(99.75994976477155), np.float64(104.10787644254114), np.float64(100.35485686946815), np.float64(105.14268501203624), np.float64(101.33270800616793), np.float64(100.0), np.float64(94.79982002877004), np.float64(93.6871109055504), np.float64(167.16913996494384), np.float64(101.82006298993048), np.float64(100.0), np.float64(95.64410652482977), np.float64(98.17993701006952), np.float64(102.71454231061333), np.float64(96.550638101683), np.float64(98.93383359506565), np.float64(101.70448005550139), np.float64(100.82067558227845), np.float64(100.56444103790642), np.float64(98.54803550827658), np.float64(89.45747521226916), np.float64(100.68252362122394), np.float64(98.40744488381083), np.float64(97.91674659883162), np.float64(79.73562600681676), np.float64(105.69144713222303), np.float64(103.09331565628031), np.float64(97.03294212560868), np.float64(91.36091633648789), np.float64(101.00194880791005), np.float64(102.27264007400186), np.float64(100.0), np.float64(101.32570670983442), np.float64(96.90668434371969), np.float64(97.91674659883162), np.float64(62.12266543330235), np.float64(102.58828452872434), np.float64(55.43100299318577), np.float64(105.46018896979146), np.float64(104.29276458422574), np.float64(102.71454231061333), np.float64(96.9773953917226), np.float64(95.2653331791628), np.float64(95.21793009551507), np.float64(100.0), np.float64(105.68160018500464), np.float64(100.0), np.float64(99.12198060770113), np.float64(99.59234813928981), np.float64(96.14913765238573), np.float64(100.73690913282226), np.float64(107.00730689483906), np.float64(98.6202552406732), np.float64(99.27876978489735), np.float64(101.5782222736124), np.float64(83.46023057254203), np.float64(99.46691679753283), np.float64(104.04516077166265), np.float64(99.34148545577585), np.float64(99.58252133003748), np.float64(99.56099030385056), np.float64(105.6600892967838), np.float64(98.58889740523395), np.float64(99.30072322781277), np.float64(99.15333844314037), np.float64(102.20951118305736), np.float64(100.73690913282226), np.float64(95.45311386130942), np.float64(98.54803550827658), np.float64(75.66631969914559), np.float64(100.49053743720596), np.float64(100.26092416872658), np.float64(97.15919990749768), np.float64(104.82187863806715), np.float64(99.7961740696449), np.float64(100.0), np.float64(100.56444103790642), np.float64(98.54803550827658), np.float64(104.68799639816719), np.float64(106.06037353067163), np.float64(100.97209289861661), np.float64(100.50097440395503), np.float64(101.45196449172342), np.float64(97.91674659883162), np.float64(94.69717316066233), np.float64(99.37445069332179), np.float64(98.4217777263876), np.float64(99.54126384176932), np.float64(98.98993774488807), np.float64(218.80857275754164), np.float64(100.0), np.float64(95.32846207010729), np.float64(97.15919990749768), np.float64(84.34403504576497), np.float64(97.66461592173471), np.float64(100.0), np.float64(95.64410652482977), np.float64(98.54038495108419), np.float64(97.03294212560868), np.float64(110.22688033300837), np.float64(96.7804265618307), np.float64(105.55534240311566), np.float64(102.90392898344682), np.float64(101.5782222736124), np.float64(102.61837925917699), np.float64(96.7804265618307), np.float64(97.22232879844218), np.float64(102.14638229211286), np.float64(119.93417123947873), np.float64(97.2475830506159), np.float64(98.20675865418916), np.float64(88.48989275712107), np.float64(100.15655450123595), np.float64(98.54803550827658), np.float64(98.25702655290647), np.float64(101.32570670983442), np.float64(99.4885886292959), np.float64(99.65558009728092), np.float64(89.58373299415814), np.float64(100.0), np.float64(100.0), np.float64(99.63938489244867), np.float64(97.09607101655318), np.float64(97.53797325316465), np.float64(103.35528839199925), np.float64(95.64410652482977), np.float64(99.4512378798132), np.float64(97.03294212560868), np.float64(96.550638101683), np.float64(98.93383359506565), np.float64(99.57666922157019), np.float64(100.61147779106528), np.float64(97.97987548977612), np.float64(99.60802705700944), np.float64(104.68799639816719), np.float64(98.49482389891622), np.float64(96.08600876144125), np.float64(96.33852432521923), np.float64(99.02790710138339), np.float64(102.14638229211286), np.float64(99.01892512558807), np.float64(99.79126066501874), np.float64(100.94693336416744), np.float64(98.79974882385774), np.float64(100.13568056773782), np.float64(99.62426919703373), np.float64(99.75994976477155), np.float64(102.90262688403568), np.float64(99.0680529067979), np.float64(100.97209289861661), np.float64(99.53402645339895), np.float64(99.77672100892033), np.float64(100.51740428474754), np.float64(143.84269356860463), np.float64(99.60802705700944), np.float64(100.0), np.float64(92.36140419571598), np.float64(99.16901736086), np.float64(95.1390753972738), np.float64(105.68160018500464), np.float64(91.39284543438437), np.float64(94.35155481631475), np.float64(101.76760894644589), np.float64(77.21047036903691), np.float64(105.68160018500464), np.float64(95.77036430671876), np.float64(95.77036430671876), np.float64(104.16650680233674), np.float64(102.71454231061333), np.float64(113.76209822590015), np.float64(100.0), np.float64(100.0), np.float64(104.29276458422574), np.float64(100.0), np.float64(99.57666922157019), np.float64(99.7961740696449), np.float64(97.72735992599814), np.float64(98.54803550827658), np.float64(81.12446160759566), np.float64(100.0), np.float64(95.2022042882183), np.float64(106.94417800389456), np.float64(96.33852432521923), np.float64(103.91399123855875), np.float64(99.46691679753283), np.float64(106.25588817012945), np.float64(99.27191633343587), np.float64(102.05393822127057), np.float64(99.50490310673639), np.float64(101.20727666441094), np.float64(59.51947618358897), np.float64(138.73219554527034), np.float64(100.0), np.float64(109.27958851605436), np.float64(107.53126024491368), np.float64(94.217068026227), np.float64(113.88835600778914), np.float64(96.33852432521923), np.float64(89.64451716324369), np.float64(95.02398876675346), np.float64(97.97987548977612), np.float64(101.5782222736124), np.float64(87.18483513826729), np.float64(100.0), np.float64(108.33818098544015), np.float64(103.03018676533581), np.float64(105.91741876386075), np.float64(95.4274491370167), np.float64(107.6669907648955), np.float64(95.64410652482977), np.float64(98.90247575962641), np.float64(99.34148545577585), np.float64(55.48487248095664), np.float64(99.49827463297207), np.float64(106.72433950438722), np.float64(105.37947160350977), np.float64(96.23436987754316), np.float64(155.40855751615064), np.float64(94.217068026227), np.float64(110.22688033300837), np.float64(98.79272333558906), np.float64(97.41171547127566), np.float64(93.81360765596376), np.float64(101.5782222736124), np.float64(140.21155023623555), np.float64(110.22099604666856), np.float64(85.20645309034813), np.float64(99.24741194945811), np.float64(99.63938489244867), np.float64(104.43806407289556), np.float64(148.5497312216757), np.float64(87.89618889210301), np.float64(99.12198060770113), np.float64(99.59234813928981), np.float64(100.95641398089698), np.float64(106.32087913412398), np.float64(12.987046813229455), np.float64(99.32580653805623), np.float64(118.18112059201488), np.float64(100.0), np.float64(99.57666922157019), np.float64(100.61147779106528), np.float64(97.98269814868384), np.float64(103.09319617201812), np.float64(102.28912198706492), np.float64(106.58985271429947), np.float64(104.43806407289556), np.float64(92.61391975949395), np.float64(98.25480613073488), np.float64(100.8340657422376), np.float64(100.94693336416744), np.float64(108.75769029349483), np.float64(100.0), np.float64(104.29276458422574), np.float64(99.73788988003692), np.float64(97.53797325316465), np.float64(97.97987548977612), np.float64(101.5782222736124), np.float64(85.60661286465489), np.float64(103.58217163949554), np.float64(80.74568826192869), np.float64(102.62730708804845), np.float64(96.15571824054138), np.float64(97.99824221862976), np.float64(97.22232879844218), np.float64(98.58208823819608), np.float64(92.21435865887419), np.float64(100.0), np.float64(102.58828452872434), np.float64(102.7524169493841), np.float64(99.01358607389362), np.float64(101.87664792003461), np.float64(121.01820442549734), np.float64(103.41450974421437), np.float64(95.74799138726546), np.float64(98.54803550827658), np.float64(117.30018270401948), np.float64(104.31025530605967), np.float64(124.22960981200238), np.float64(100.0), np.float64(110.60565367867534), np.float64(99.33987080898186), np.float64(103.25285639472665), np.float64(101.83073783739039), np.float64(103.12774653339102), np.float64(100.11125768212811), np.float64(97.6924201377667), np.float64(74.1439619906343), np.float64(102.11257311331217), np.float64(97.59491676330614), np.float64(91.66181901455985), np.float64(89.2822552122468), np.float64(110.89342999710729), np.float64(82.24774370841774), np.float64(97.41439619906343), np.float64(95.4274491370167), np.float64(119.42476654486397), np.float64(97.8754161591555), np.float64(104.35589347517023), np.float64(102.71454231061333), np.float64(98.25480613073488), np.float64(99.54126384176932), np.float64(98.98993774488807), np.float64(115.4659808600906), np.float64(100.0), np.float64(100.0), np.float64(100.82067558227845), np.float64(102.7316077953715), np.float64(98.54803550827658), np.float64(101.41733620424485), np.float64(103.71802172147787), np.float64(97.91674659883162), np.float64(109.23438761663377), np.float64(108.4240639965998), np.float64(96.93613459985644), np.float64(104.90766984784827), np.float64(105.25461417609691), np.float64(102.89260010899666), np.float64(96.65081513380498), np.float64(100.0), np.float64(100.0), np.float64(79.9614682769261), np.float64(101.58236850199938), np.float64(102.87752681071973), np.float64(97.08076990216838), np.float64(96.81312423873325), np.float64(103.77632728391265), np.float64(103.12774653339102), np.float64(98.0972746847124), np.float64(102.2936807911534), np.float64(90.89464068209502), np.float64(99.35928637342356), np.float64(94.217068026227), np.float64(49.69288976857495), np.float64(100.0), np.float64(96.2050008728189), np.float64(100.0), np.float64(100.0), np.float64(107.58779943158748), np.float64(102.37708736537716), np.float64(93.14117370552503), np.float64(98.62379152530795), np.float64(168.5882629447496), np.float64(105.46321559074299), np.float64(101.07756382651492), np.float64(86.28234741105008), np.float64(97.41439619906343), np.float64(92.6185181811972), np.float64(98.71857274684713), np.float64(91.66181901455985), np.float64(95.4274491370167), np.float64(105.23558160779537), np.float64(98.4217777263876), np.float64(100.1148066342397), np.float64(98.98993774488807), np.float64(86.74293290165582), np.float64(90.85489827403339), np.float64(99.73788988003692), np.float64(101.62642819736332), np.float64(97.97987548977612), np.float64(101.5782222736124), np.float64(76.32666589581396), np.float64(91.65342062525376), np.float64(96.33852432521923), np.float64(103.91399123855875), np.float64(102.14638229211286), np.float64(109.27958851605436), np.float64(101.89694985789687), np.float64(99.16534206252538), np.float64(100.66725259379008), np.float64(110.77467519285423), np.float64(100.4756813288219), np.float64(99.64081205782836), np.float64(104.30357728280782), np.float64(96.63783024780639), np.float64(113.51186502424918), np.float64(97.41439619906343), np.float64(98.58208823819608), np.float64(119.57652253349572), np.float64(98.24846194130103), np.float64(99.73788988003692), np.float64(97.53797325316465), np.float64(115.05488664738874), np.float64(93.17098051157126), np.float64(95.77036430671876), np.float64(95.90258830694276), np.float64(99.66022762227007), np.float64(97.03294212560868), np.float64(114.59615048915806), np.float64(105.46321559074299), np.float64(95.06793036946813), np.float64(100.54272227095127), np.float64(104.78031364190012), np.float64(121.0219206845172), np.float64(100.0), np.float64(99.0680529067979), np.float64(96.08600876144125), np.float64(99.53402645339895), np.float64(97.22232879844218), np.float64(102.14638229211286), np.float64(100.59217471547217), np.float64(101.66931587494925), np.float64(100.15532451553368), np.float64(119.09712419245969), np.float64(100.4756813288219), np.float64(98.45697837686043), np.float64(104.30357728280782), np.float64(99.75730544447862), np.float64(26.01836866352457), np.float64(105.23558160779537), np.float64(98.54038495108419), np.float64(100.45626576438019), np.float64(103.39772377729929), np.float64(90.98938506412114), np.float64(100.0), np.float64(97.914835644406), np.float64(100.0), np.float64(100.70866810212243), np.float64(102.62730708804845), np.float64(92.6185181811972), np.float64(82.24774370841774), np.float64(91.66181901455985), np.float64(98.58208823819608), np.float64(49.49688724440313), np.float64(105.8635004613965), np.float64(100.0), np.float64(102.34928329744695), np.float64(78.61660037604867), np.float64(99.53402645339895), np.float64(101.08727160873578), np.float64(144.9477703524812), np.float64(100.0), np.float64(99.33987080898186), np.float64(100.7572070132267)]\n"
     ]
    }
   ],
   "source": [
    "# tester??\n",
    "data_pitch_avg_rundiff_dict = {'4-Seam Fastball' : data[data['pitch_name'] == '4-Seam Fastball']['delta_run_exp'].mean(), \n",
    "'Sinker' : data[data['pitch_name'] == 'Sinker']['delta_run_exp'].mean(), \n",
    "'Split-Finger' : data[data['pitch_name'] == 'Split-Finger']['delta_run_exp'].mean(), \n",
    "'Changeup' : data[data['pitch_name'] == 'Changeup']['delta_run_exp'].mean(), \n",
    "'Forkball' : data[data['pitch_name'] == 'Forkball']['delta_run_exp'].mean(), \n",
    "'Curveball' : data[data['pitch_name'] == 'Curveball']['delta_run_exp'].mean(), \n",
    "'Slider' : data[data['pitch_name'] == 'Slider']['delta_run_exp'].mean(), \n",
    "'Cutter' : data[data['pitch_name'] == 'Cutter']['delta_run_exp'].mean(), \n",
    "'Knuckle Curve' : data[data['pitch_name'] == 'Knuckle Curve']['delta_run_exp'].mean(), \n",
    "'Sweeper' : data[data['pitch_name'] == 'Sweeper']['delta_run_exp'].mean(), \n",
    "'Screwball' : data[data['pitch_name'] == 'Screwball']['delta_run_exp'].mean(), \n",
    "'Slow Curve' : data[data['pitch_name'] == 'Slow Curve']['delta_run_exp'].mean(),\n",
    "'Slurve' : data[data['pitch_name'] == 'Slurve']['delta_run_exp'].mean()}\n",
    "\n",
    "stuff_list = []\n",
    "for index, pitch in data.head(1000).iterrows():\n",
    "    name_of_pitch = pitch['pitch_name']\n",
    "\n",
    "    if (name_of_pitch in data_pitch_avg_rundiff_dict):\n",
    "        pitch_mlb_delta = data_pitch_avg_rundiff_dict[name_of_pitch]\n",
    "        stuff = 100 + ((pitch['delta_run_exp']/pitch_mlb_delta) / 40)\n",
    "        stuff_list.append(stuff)\n",
    "\n",
    "print(stuff_list)"
   ]
  },
  {
   "cell_type": "code",
   "execution_count": 32,
   "id": "1ee615ea-9367-4b5c-9e0b-21088ae96d19",
   "metadata": {},
   "outputs": [
    {
     "name": "stdout",
     "output_type": "stream",
     "text": [
      "0.00039601519408887436\n",
      "85.83590061287191\n"
     ]
    }
   ],
   "source": [
    "league_avg_run_exp = data_pitch_avg_rundiff_dict['4-Seam Fastball']\n",
    "print(league_avg_run_exp)\n",
    "\n",
    "strider = data[data['player_name'] == \"Strider, Spencer\"]\n",
    "Strider_fastball = strider[strider['pitch_name'] == '4-Seam Fastball']\n",
    "Strider_fastball_exp = Strider_fastball['delta_run_exp'].mean()\n",
    "Strider_fastball_stuff = 100 + ((Strider_fastball_exp/league_avg_run_exp) / 1)\n",
    "print(Strider_fastball_stuff)"
   ]
  },
  {
   "cell_type": "code",
   "execution_count": 22,
   "id": "6255a165-910d-4a76-99ab-ce4af269c5ef",
   "metadata": {},
   "outputs": [
    {
     "name": "stdout",
     "output_type": "stream",
     "text": [
      "{'4-Seam Fastball': np.float64(0.00039601519408887436), 'Sinker': np.float64(-0.00018589186331006229), 'Split-Finger': np.float64(-0.002921146601146601), 'Changeup': np.float64(0.002395331958132783), 'Forkball': np.float64(-0.006101910828025479), 'Curveball': np.float64(0.000769204147189143), 'Slider': np.float64(-0.001594497812097812), 'Cutter': np.float64(-0.0005994731286512461), 'Knuckle Curve': np.float64(-0.0003294762892114243), 'Sweeper': np.float64(-0.0025752534854245877), 'Screwball': np.float64(0.031214007782101167), 'Slow Curve': np.float64(0.025886153846153847), 'Slurve': np.float64(-0.005104555064385932)}\n"
     ]
    }
   ],
   "source": [
    "print(data_pitch_avg_rundiff_dict)\n",
    "league_avg_run_exp = data['delta_run_exp'].mean()\n",
    "print(league_avg_run_exp)"
   ]
  },
  {
   "cell_type": "code",
   "execution_count": 54,
   "id": "0a2e0d90-f7f5-4f93-bf01-b4c07628a866",
   "metadata": {},
   "outputs": [
    {
     "name": "stdout",
     "output_type": "stream",
     "text": [
      "0.00039601519408887436\n",
      "79.14031849733647\n"
     ]
    }
   ],
   "source": [
    "league_avg_run_exp = data_pitch_avg_rundiff_dict['4-Seam Fastball']\n",
    "print(league_avg_run_exp)\n",
    "league_avg_run_exp = data['delta_run_exp'].mean()\n",
    "\n",
    "cole = data[data['player_name'] == \"Beede, Tyler\"]\n",
    "cole_fastball = cole[cole['pitch_name'] == '4-Seam Fastball']\n",
    "cole_fastball_exp = cole_fastball['delta_run_exp'].mean()\n",
    "cole_fastball_stuff = 100 + ((cole_fastball_exp/league_avg_run_exp) / 40)\n",
    "print(cole_fastball_stuff)"
   ]
  },
  {
   "cell_type": "code",
   "execution_count": null,
   "id": "bf474031-3d41-40d2-8616-08a98708fdab",
   "metadata": {},
   "outputs": [],
   "source": []
  }
 ],
 "metadata": {
  "kernelspec": {
   "display_name": "Python 3 (ipykernel)",
   "language": "python",
   "name": "python3"
  },
  "language_info": {
   "codemirror_mode": {
    "name": "ipython",
    "version": 3
   },
   "file_extension": ".py",
   "mimetype": "text/x-python",
   "name": "python",
   "nbconvert_exporter": "python",
   "pygments_lexer": "ipython3",
   "version": "3.12.5"
  }
 },
 "nbformat": 4,
 "nbformat_minor": 5
}
