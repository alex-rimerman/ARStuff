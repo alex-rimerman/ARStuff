{
 "cells": [
  {
   "cell_type": "code",
   "execution_count": 1,
   "id": "e2104ba6-a503-4629-a1fc-92dc7f7648c2",
   "metadata": {},
   "outputs": [],
   "source": [
    "import pandas as pd\n",
    "import numpy as np\n",
    "import pandas as pd\n",
    "import numpy as np\n",
    "from sklearn.model_selection import train_test_split, RandomizedSearchCV\n",
    "from sklearn.metrics import mean_absolute_error\n",
    "from sklearn.metrics import mean_squared_error\n",
    "from pybaseball import statcast, cache\n",
    "#from catboost import CatBoostClassifier\n",
    "from xgboost import XGBClassifier\n",
    "import joblib\n",
    "import math\n",
    "from pybaseball import statcast\n",
    "import scipy.stats as stats\n",
    "#from catboost import Pool\n",
    "#import optuna\n",
    "from sklearn.metrics import log_loss\n",
    "from sklearn.metrics import accuracy_score, precision_score\n",
    "import sqlite3\n",
    "cache.enable()"
   ]
  },
  {
   "cell_type": "code",
   "execution_count": 2,
   "id": "ea8b7f20-22cd-495c-a37c-b20a1bd71c9f",
   "metadata": {},
   "outputs": [],
   "source": [
    "data = pd.read_csv('21-24pitching.csv')"
   ]
  },
  {
   "cell_type": "code",
   "execution_count": 3,
   "id": "a808ec45-bc3c-4de7-8358-cd29656d98db",
   "metadata": {},
   "outputs": [
    {
     "data": {
      "text/plain": [
       "np.float64(88.98224756397475)"
      ]
     },
     "execution_count": 3,
     "metadata": {},
     "output_type": "execute_result"
    }
   ],
   "source": [
    "data['release_speed'].mean()"
   ]
  },
  {
   "cell_type": "code",
   "execution_count": 4,
   "id": "7245c98c-f37b-49ab-99a3-3d94febca015",
   "metadata": {},
   "outputs": [
    {
     "name": "stdout",
     "output_type": "stream",
     "text": [
      "        pitch_type   game_date  release_speed  release_pos_x  release_pos_z  \\\n",
      "0               KC  2024-10-30           77.5          -1.11           5.65   \n",
      "1               KC  2024-10-30           78.7          -1.01           5.73   \n",
      "2               FC  2024-10-30           93.1          -1.19           5.53   \n",
      "3               KC  2024-10-30           78.5          -1.19           5.70   \n",
      "4               KC  2024-10-30           77.4          -1.23           5.78   \n",
      "...            ...         ...            ...            ...            ...   \n",
      "2990317         FF  2021-03-15           90.1          -2.72           6.10   \n",
      "2990318         SI  2021-03-15           90.3          -2.71           6.05   \n",
      "2990319         SI  2021-03-15           91.0          -2.93           6.07   \n",
      "2990320         CH  2021-03-15           78.2          -2.45           6.17   \n",
      "2990321         SL  2021-03-15           83.7          -2.48           6.17   \n",
      "\n",
      "             player_name  batter  pitcher     events              description  \\\n",
      "0        Buehler, Walker  657077   621111  strikeout  swinging_strike_blocked   \n",
      "1        Buehler, Walker  657077   621111        NaN          swinging_strike   \n",
      "2        Buehler, Walker  657077   621111        NaN          swinging_strike   \n",
      "3        Buehler, Walker  657077   621111        NaN                     ball   \n",
      "4        Buehler, Walker  669224   621111  strikeout          swinging_strike   \n",
      "...                  ...     ...      ...        ...                      ...   \n",
      "2990317       Gant, John  664057   607231        NaN                     ball   \n",
      "2990318       Gant, John  664057   607231        NaN                     foul   \n",
      "2990319       Gant, John  664057   607231        NaN                     ball   \n",
      "2990320       Gant, John  664057   607231        NaN          swinging_strike   \n",
      "2990321       Gant, John  664057   607231        NaN            called_strike   \n",
      "\n",
      "         ...  n_thruorder_pitcher  n_priorpa_thisgame_player_at_bat  \\\n",
      "0        ...                    1                                 4   \n",
      "1        ...                    1                                 4   \n",
      "2        ...                    1                                 4   \n",
      "3        ...                    1                                 4   \n",
      "4        ...                    1                                 4   \n",
      "...      ...                  ...                               ...   \n",
      "2990317  ...                    1                                 0   \n",
      "2990318  ...                    1                                 0   \n",
      "2990319  ...                    1                                 0   \n",
      "2990320  ...                    1                                 0   \n",
      "2990321  ...                    1                                 0   \n",
      "\n",
      "         pitcher_days_since_prev_game  batter_days_since_prev_game  \\\n",
      "0                                 2.0                          1.0   \n",
      "1                                 2.0                          1.0   \n",
      "2                                 2.0                          1.0   \n",
      "3                                 2.0                          1.0   \n",
      "4                                 2.0                          1.0   \n",
      "...                               ...                          ...   \n",
      "2990317                           NaN                          NaN   \n",
      "2990318                           NaN                          NaN   \n",
      "2990319                           NaN                          NaN   \n",
      "2990320                           NaN                          NaN   \n",
      "2990321                           NaN                          NaN   \n",
      "\n",
      "         pitcher_days_until_next_game batter_days_until_next_game  \\\n",
      "0                                 NaN                         NaN   \n",
      "1                                 NaN                         NaN   \n",
      "2                                 NaN                         NaN   \n",
      "3                                 NaN                         NaN   \n",
      "4                                 NaN                         NaN   \n",
      "...                               ...                         ...   \n",
      "2990317                           NaN                         NaN   \n",
      "2990318                           NaN                         NaN   \n",
      "2990319                           NaN                         NaN   \n",
      "2990320                           NaN                         NaN   \n",
      "2990321                           NaN                         NaN   \n",
      "\n",
      "        api_break_z_with_gravity api_break_x_arm api_break_x_batter_in  \\\n",
      "0                           5.23           -1.08                  1.08   \n",
      "1                           5.28           -1.05                  1.05   \n",
      "2                           1.89           -0.53                  0.53   \n",
      "3                           5.16           -1.05                  1.05   \n",
      "4                           5.20           -1.08                  1.08   \n",
      "...                          ...             ...                   ...   \n",
      "2990317                     1.55            0.90                 -0.90   \n",
      "2990318                     1.68            1.18                 -1.18   \n",
      "2990319                     1.34            1.23                 -1.23   \n",
      "2990320                     3.05            0.92                 -0.92   \n",
      "2990321                     2.60           -0.25                  0.25   \n",
      "\n",
      "        arm_angle  \n",
      "0            53.2  \n",
      "1            54.2  \n",
      "2            44.8  \n",
      "3            51.9  \n",
      "4            50.0  \n",
      "...           ...  \n",
      "2990317       NaN  \n",
      "2990318       NaN  \n",
      "2990319       NaN  \n",
      "2990320       NaN  \n",
      "2990321       NaN  \n",
      "\n",
      "[2987133 rows x 113 columns]\n"
     ]
    }
   ],
   "source": [
    "data = data[~data['pitch_name'].isin(['Pitch Out', 'Eephus', 'Knuckleball'])]\n",
    "data.loc[data['p_throws'] == 'L', 'pfx_x'] *= -1\n",
    "data.loc[data['p_throws'] == 'L', 'release_pos_x'] *= -1\n",
    "data.loc[data['p_throws'] == 'L', 'spin_axis'] = 360 - data.loc[data['p_throws'] == 'L', 'spin_axis']\n",
    "fastballs = ['4-Seam Fastball', 'Sinker']\n",
    "offspeed = ['Split-Finger', 'Changeup', 'Forkball']\n",
    "breaking = ['Curveball', 'Slider', 'Cutter', 'Knuckle Curve', 'Sweeper', 'Screwball', 'Slow Curve']\n",
    "print(data)"
   ]
  },
  {
   "cell_type": "code",
   "execution_count": 5,
   "id": "7d9c9ee4-0b64-4a0c-b947-cde7e6fbb7a8",
   "metadata": {},
   "outputs": [],
   "source": [
    "def get_pitch_data(data, pitch_name, players):\n",
    "    pitch_data = data.loc[(data['pitch_name'] == pitch_name) & (data['player_name'].isin(players))]\n",
    "    grouped_data = pitch_data.groupby('player_name').agg({\n",
    "        'release_speed': 'median',\n",
    "        'pfx_x': 'median',\n",
    "        'pfx_z': 'median'\n",
    "    }).reset_index()\n",
    "    \n",
    "    return grouped_data"
   ]
  },
  {
   "cell_type": "code",
   "execution_count": 6,
   "id": "941b9804-d06a-41af-ab43-7e6ed4fee691",
   "metadata": {},
   "outputs": [],
   "source": [
    "all = data['player_name'].unique()\n",
    "\n",
    "# pitch type: Fastballs\n",
    "\n",
    "fastball_data = get_pitch_data(data, '4-Seam Fastball', all)\n",
    "fastball_data = fastball_data.dropna(subset=['release_speed'])\n",
    "fastball_velo = dict(zip(fastball_data['player_name'], fastball_data['release_speed']))\n",
    "fastball_horiz = dict(zip(fastball_data['player_name'], fastball_data['pfx_x']))\n",
    "fastball_vert = dict(zip(fastball_data['player_name'], fastball_data['pfx_z']))\n",
    "\n",
    "sinker_data = get_pitch_data(data, 'Sinker', all)\n",
    "sinker_data = sinker_data.dropna(subset=['release_speed'])\n",
    "sinker_velo = dict(zip(sinker_data['player_name'], sinker_data['release_speed']))\n",
    "sinker_horiz = dict(zip(sinker_data['player_name'], sinker_data['pfx_x']))\n",
    "sinker_vert = dict(zip(sinker_data['player_name'], sinker_data['pfx_z']))\n",
    "\n",
    "cutter_data = get_pitch_data(data, 'Cutter', all)\n",
    "cutter_data = cutter_data.dropna(subset=['release_speed'])\n",
    "cutter_velo = dict(zip(cutter_data['player_name'], cutter_data['release_speed']))\n",
    "cutter_horiz = dict(zip(cutter_data['player_name'], cutter_data['pfx_x']))\n",
    "cutter_vert = dict(zip(cutter_data['player_name'], cutter_data['pfx_z']))"
   ]
  },
  {
   "cell_type": "code",
   "execution_count": 7,
   "id": "8ebeab78-beb5-4401-a5a4-32c37a2e6c1d",
   "metadata": {},
   "outputs": [],
   "source": [
    "pitch_data = {\n",
    "    '4-Seam Fastball': {\n",
    "        'velo': fastball_velo,\n",
    "        'horiz': fastball_horiz,\n",
    "        'vert': fastball_vert\n",
    "    },\n",
    "    'Sinker': {\n",
    "        'velo': sinker_velo,\n",
    "        'horiz': sinker_horiz,\n",
    "        'vert': sinker_vert\n",
    "    },\n",
    "    'Cutter': {\n",
    "        'velo': cutter_velo,\n",
    "        'horiz': cutter_horiz,\n",
    "        'vert': cutter_vert\n",
    "    }\n",
    "}\n",
    "\n",
    "def calculate_differences(row):\n",
    "    player_name = row['player_name']\n",
    "    for pitch_type in ['4-Seam Fastball', 'Sinker', 'Cutter']:\n",
    "        if player_name in pitch_data[pitch_type]['velo']:\n",
    "            velo_dif = row['release_speed'] - pitch_data[pitch_type]['velo'][player_name]\n",
    "            horiz_dif = row['pfx_x'] - pitch_data[pitch_type]['horiz'][player_name]\n",
    "            vert_dif = row['pfx_z'] - pitch_data[pitch_type]['vert'][player_name]\n",
    "            return velo_dif, horiz_dif, vert_dif\n",
    "\n",
    "    return np.nan, np.nan, np.nan\n",
    "\n",
    "data['velo'], data['horiz_dif'], data['vert_dif'] = zip(*data.apply(calculate_differences, axis=1))"
   ]
  },
  {
   "cell_type": "code",
   "execution_count": 10,
   "id": "741a21e0-e732-4188-bd90-ae4b31538146",
   "metadata": {},
   "outputs": [
    {
     "name": "stdout",
     "output_type": "stream",
     "text": [
      "119.76135442027109\n",
      "115.02854400788944\n"
     ]
    }
   ],
   "source": [
    "league_avg_run_exp = data['delta_run_exp'].mean()\n",
    "\n",
    "clase = data[data['player_name'] == \"Clase, Emmanuel\"]\n",
    "clase_cutter = clase[clase['pitch_name'] == 'Cutter']\n",
    "clase_cutter_run_exp = clase_cutter['delta_run_exp'].mean()\n",
    "clase_cutter_stuff = 100 + ((clase_cutter_run_exp/league_avg_run_exp) / 40)\n",
    "print(clase_cutter_stuff)\n",
    "\n",
    "burnes = data[data['player_name'] == \"Burnes, Corbin\"]\n",
    "clase_cutter = burnes[burnes['pitch_name'] == 'Cutter']\n",
    "clase_cutter_run_exp = clase_cutter['delta_run_exp'].mean()\n",
    "clase_cutter_stuff = 100 + ((clase_cutter_run_exp/league_avg_run_exp) / 40)\n",
    "print(clase_cutter_stuff)"
   ]
  },
  {
   "cell_type": "code",
   "execution_count": 12,
   "id": "31d9f6a2-ac34-43ca-a896-31fff0d1ce67",
   "metadata": {},
   "outputs": [
    {
     "name": "stdout",
     "output_type": "stream",
     "text": [
      "[np.float64(110.47116321559074), np.float64(103.79389971579374), np.float64(101.66813148447521), np.float64(97.72366017052376), np.float64(131.86875761266745), np.float64(108.58552916845147), np.float64(100.0), np.float64(107.43604344295574), np.float64(104.67153792989271), np.float64(97.72366017052376), np.float64(103.49038773853025), np.float64(130.8064656922452), np.float64(104.54528014800371), np.float64(107.73955542021923), np.float64(111.8348375277215), np.float64(104.29276458422574), np.float64(108.65934174100278), np.float64(62.233692958942456), np.float64(110.9203779395829), np.float64(124.74556937614494), np.float64(98.5964415485376), np.float64(99.50361957204379), np.float64(106.25549306678202), np.float64(87.32220071798842), np.float64(112.12074706134325), np.float64(96.07989101148327), np.float64(104.67076815653058), np.float64(96.4135173083783), np.float64(53.41087848296189), np.float64(161.1087664342722), np.float64(104.08692213696426), np.float64(95.83349319766326), np.float64(105.84408489695478), np.float64(100.63128890944496), np.float64(90.78318192210358), np.float64(101.4949984620117), np.float64(224.8037412014267), np.float64(87.32220071798842), np.float64(101.22318055982774), np.float64(98.01961242694556), np.float64(99.00980621347277), np.float64(99.35928637342356), np.float64(92.87448784989235), np.float64(100.0), np.float64(98.6797416179637), np.float64(100.9513626576438), np.float64(100.79603814211012), np.float64(87.62721531192753), np.float64(99.51461088895725), np.float64(103.24239926176561), np.float64(99.59227314672408), np.float64(100.9513626576438), np.float64(108.87612814579113), np.float64(91.67130053424766), np.float64(87.87925293865675), np.float64(82.95519944498605), np.float64(102.08739334981261), np.float64(106.3128890944496), np.float64(52.14830066407197), np.float64(116.30254206203652), np.float64(7.579303657257725), np.float64(143.55893475170228), np.float64(80.6825593709842), np.float64(103.29808149270393), np.float64(82.95519944498605), np.float64(108.08049804089549), np.float64(105.1976094410334), np.float64(106.49179331791723), np.float64(103.40245116019456), np.float64(101.9204018818276), np.float64(114.06903117773703), np.float64(108.6209345347261), np.float64(100.4801004704569), np.float64(99.31116019456184), np.float64(102.42694555521378), np.float64(102.83582352360786), np.float64(101.83494463292273), np.float64(105.30282683933767), np.float64(99.49519532451554), np.float64(99.70876653337434), np.float64(102.75701015072285), np.float64(103.40896011100278), np.float64(100.7572070132267), np.float64(98.7489013866436), np.float64(100.44655798215933), np.float64(102.8346724084897), np.float64(100.0), np.float64(93.81336868743938), np.float64(100.64071362657644), np.float64(109.20297754537066), np.float64(100.0), np.float64(97.10708089818517), np.float64(99.51461088895725), np.float64(132.54580320123412), np.float64(102.0696171389902), np.float64(88.70310963262948), np.float64(75.79237778420602), np.float64(82.78569086876874), np.float64(88.70310963262948), np.float64(92.46873975508632), np.float64(81.44082296789128), np.float64(100.89757914041942), np.float64(98.08164879285351), np.float64(97.47484436222015), np.float64(100.31310900247189), np.float64(111.51010724287893), np.float64(103.49038773853025), np.float64(133.08280552172147), np.float64(100.4801004704569), np.float64(108.87612814579113), np.float64(227.76245058335707), np.float64(118.81240950145983), np.float64(103.16473700399877), np.float64(118.55917703210872), np.float64(81.1718493877158), np.float64(88.70310963262948), np.float64(65.84035531771295), np.float64(98.30667688628075), np.float64(105.17656905744867), np.float64(117.75225629158226), np.float64(98.91571453509111), np.float64(112.10381110789699), np.float64(107.8081010243721), np.float64(48.36056720740221), np.float64(139.00116912544584), np.float64(88.6367996299907), np.float64(-17.541454536688505), np.float64(100.0), np.float64(100.0), np.float64(94.48102096269281), np.float64(81.97877012824227), np.float64(119.90404493298615), np.float64(102.32047982250415), np.float64(83.3236380291197), np.float64(10.431797801562297), np.float64(90.4044085764366), np.float64(96.550638101683), np.float64(115.60046765017833), np.float64(98.05581420276678), np.float64(98.93383359506565), np.float64(92.29827530477148), np.float64(97.22232879844218), np.float64(102.42809581810799), np.float64(82.07139497176311), np.float64(104.08692213696426), np.float64(94.38502842062526), np.float64(102.66901037516033), np.float64(103.15644454722481), np.float64(122.15637434023546), np.float64(104.08692213696426), np.float64(95.83349319766326), np.float64(22.09894857449183), np.float64(81.56636384420715), np.float64(84.09151948198699), np.float64(111.2369425881203), np.float64(128.66051648880122), np.float64(88.38428406621271), np.float64(96.01755489921584), np.float64(108.83804473222945), np.float64(98.68297091155169), np.float64(118.81240950145983), np.float64(105.30282683933767), np.float64(99.12198060770113), np.float64(95.07681983603848), np.float64(96.84355545277519), np.float64(101.38883560077892), np.float64(97.97987548977612), np.float64(103.60615107551322), np.float64(95.0759465063293), np.float64(95.95975097955225), np.float64(99.21605411401886), np.float64(72.4758035481997), np.float64(102.90392898344682), np.float64(101.0348085694951), np.float64(62.627696560858325), np.float64(90.78318192210358), np.float64(106.42230621522955), np.float64(94.82879239812686), np.float64(95.70723541577426), np.float64(91.95693260251727), np.float64(103.28270232911379), np.float64(97.57190418189201), np.float64(47.47562563926398), np.float64(98.14988770908452), np.float64(82.57642609931908), np.float64(106.42230621522955), np.float64(314.5119714293977), np.float64(100.0), np.float64(81.56636384420715), np.float64(101.9204018818276), np.float64(134.69759184263802), np.float64(55.25236882819683), np.float64(92.57681489408533), np.float64(174.96745838408438), np.float64(75.6322480954245), np.float64(101.00194880791005), np.float64(109.34153631306116), np.float64(34.47221119961306), np.float64(83.08145722687505), np.float64(97.18201897775297), np.float64(108.08049804089549), np.float64(67.7327873330165), np.float64(75.50599031353552), np.float64(96.6133537725615), np.float64(109.34153631306116), np.float64(86.03844904587902), np.float64(117.20012120245595), np.float64(100.0), np.float64(111.07818717011773), np.float64(98.68494218961806), np.float64(146.4628637351491), np.float64(98.93383359506565), np.float64(58.839963104188556), np.float64(103.15644454722481), np.float64(100.0), np.float64(100.0), np.float64(99.5829671288812), np.float64(90.78318192210358), np.float64(90.2781507945476), np.float64(34.093437853946085), np.float64(95.1624186950219), np.float64(160.35121974293827), np.float64(53.41087848296189), np.float64(142.0438413690344), np.float64(100.0), np.float64(90.4044085764366), np.float64(89.77311966699163), np.float64(88.99033220246363), np.float64(107.82798247711752), np.float64(104.29276458422574), np.float64(72.85457689386669), np.float64(100.0), np.float64(90.65692414021458), np.float64(94.31839981499536), np.float64(53.41087848296189), np.float64(146.28557653268368), np.float64(109.56062728380023), np.float64(89.55784079873129), np.float64(90.4044085764366), np.float64(90.82527683538636), np.float64(98.49482389891622), np.float64(94.44465759688434), np.float64(90.85489827403339), np.float64(102.16369064530794), np.float64(100.78394588598114), np.float64(97.47484436222015), np.float64(101.89386672833488), np.float64(103.60615107551322), np.float64(95.0759465063293), np.float64(101.89386672833488), np.float64(97.09607101655318), np.float64(59.09247866796654), np.float64(98.05581420276678), np.float64(104.29276458422574), np.float64(226.25778188899216), np.float64(97.01502750976796), np.float64(99.03979905908619), np.float64(95.0759465063293), np.float64(113.00455153456619), np.float64(95.70723541577426), np.float64(105.42908462122666), np.float64(100.4801004704569), np.float64(100.22961326847938), np.float64(97.97987548977612), np.float64(80.5563015890952), np.float64(104.856191636216), np.float64(99.21605411401886), np.float64(96.95240570927358), np.float64(100.0), np.float64(100.0), np.float64(107.43604344295574), np.float64(95.83349319766326), np.float64(121.35468593412611), np.float64(104.04516077166265), np.float64(92.88177135529129), np.float64(72.0267476617492), np.float64(97.89902502557055), np.float64(102.0696171389902), np.float64(98.68297091155169), np.float64(96.01755489921584), np.float64(106.81792022200558), np.float64(102.16369064530794), np.float64(98.65161307611245), np.float64(99.15333844314037), np.float64(101.22295558213057), np.float64(105.89527306257813), np.float64(101.91282796179397), np.float64(101.47381826564454), np.float64(85.32453301443316), np.float64(90.78318192210358), np.float64(96.8955742915147), np.float64(95.75083231831101), np.float64(106.06037353067163), np.float64(147.8031364190012), np.float64(92.26044457978077), np.float64(0.5998274462039035), np.float64(95.83349319766326), np.float64(107.84021797703348), np.float64(105.37947160350977), np.float64(99.52963246841132), np.float64(85.4803550827659), np.float64(100.0), np.float64(100.27136113547564), np.float64(105.46321559074299), np.float64(103.49038773853025), np.float64(105.23675851835398), np.float64(99.34148545577585), np.float64(104.08692213696426), np.float64(95.83349319766326), np.float64(84.21777726387597), np.float64(101.06616640493435), np.float64(98.65161307611245), np.float64(100.72123021510265), np.float64(103.28270232911379), np.float64(101.89386672833488), np.float64(73.48586580331164), np.float64(92.67704865043845), np.float64(93.5608531236614), np.float64(86.64547300040603), np.float64(93.01922452293951), np.float64(99.21605411401886), np.float64(222.59630621421138), np.float64(94.82343094255133), np.float64(93.01922452293951), np.float64(103.15644454722481), np.float64(313.62816695617477), np.float64(94.92003065884225), np.float64(93.5608531236614), np.float64(111.1106848062313), np.float64(93.01922452293951), np.float64(96.20610028420626), np.float64(105.23675851835398), np.float64(99.34148545577585), np.float64(93.81336868743938), np.float64(95.83349319766326), np.float64(92.29827530477148), np.float64(99.54077346304122), np.float64(97.97987548977612), np.float64(104.82910665764379), np.float64(101.89386672833488), np.float64(103.49038773853025), np.float64(71.21322572930978), np.float64(122.59378073474105), np.float64(95.96539629736768), np.float64(106.72433950438722), np.float64(101.38883560077892), np.float64(97.97987548977612), np.float64(150.02908591264088), np.float64(93.27566049561278), np.float64(180.42310047247108), np.float64(100.0), np.float64(74.1785363031531), np.float64(90.3169511136824), np.float64(102.65141341966884), np.float64(100.0), np.float64(113.17970542859894), np.float64(108.87612814579113), np.float64(110.81845322653966), np.float64(105.42908462122666), np.float64(93.93962646932837), np.float64(99.49827463297207), np.float64(57.19861193963165), np.float64(86.74293290165582), np.float64(112.12074706134325), np.float64(105.93411574878263), np.float64(100.52184833745315), np.float64(94.06588425121737), np.float64(78.04951519252823), np.float64(99.21605411401886), np.float64(94.31839981499536), np.float64(146.33660595326012), np.float64(100.0), np.float64(100.0), np.float64(100.0), np.float64(100.10892545499875), np.float64(99.92150959860383), np.float64(100.77233553943067), np.float64(95.95975097955225), np.float64(103.15644454722481), np.float64(368.55030207788633), np.float64(103.48071973375623), np.float64(98.68297091155169), np.float64(230.17177312755092), np.float64(100.0), np.float64(100.0), np.float64(100.0), np.float64(100.0), np.float64(99.12198060770113), np.float64(100.0), np.float64(100.01922213911743), np.float64(100.0), np.float64(102.91627869584983), np.float64(90.53066635832559), np.float64(100.41167414609824), np.float64(100.0), np.float64(86.74293290165582), np.float64(102.00389761582011), np.float64(100.98107487441193), np.float64(103.15644454722481), np.float64(99.92791697830965), np.float64(86.35934158392826), np.float64(100.0), np.float64(101.53653393652303), np.float64(104.67153792989271), np.float64(99.52963246841132), np.float64(97.09607101655318), np.float64(71.21322572930978), np.float64(89.39434632132466), np.float64(100.31310900247189), np.float64(96.84355545277519), np.float64(97.47484436222015), np.float64(101.89386672833488), np.float64(97.5994976477155), np.float64(100.0), np.float64(100.27136113547564), np.float64(100.0), np.float64(95.45471985199629), np.float64(101.91835120714649), np.float64(74.36967027653459), np.float64(98.70581612311618), np.float64(101.00194880791005), np.float64(100.4801004704569), np.float64(95.83349319766326), np.float64(105.01725367027926), np.float64(98.65161307611245), np.float64(97.09607101655318), np.float64(103.28270232911379), np.float64(99.52963246841132), np.float64(79.54623933398327), np.float64(80.56432735752804), np.float64(112.12074706134325), np.float64(92.17201752288248), np.float64(103.12010798273798), np.float64(101.49505174172862), np.float64(95.83349319766326), np.float64(65.02659441674916), np.float64(96.58033045682582), np.float64(91.66698639532652), np.float64(104.0035155627405), np.float64(102.02012451022388), np.float64(106.0934976673246), np.float64(100.0), np.float64(98.44239245020636), np.float64(99.04147227705006), np.float64(99.55496927148752), np.float64(105.08780102764938), np.float64(100.8044786246187), np.float64(86.48813497575082), np.float64(105.00517322230883), np.float64(99.3666870401938), np.float64(99.74325150278126), np.float64(98.50494825827138), np.float64(80.56432735752804), np.float64(120.44199209333713), np.float64(98.11717768706262), np.float64(99.17840480890005), np.float64(97.13990101582353), np.float64(102.21007648777272), np.float64(98.55969858862929), np.float64(99.71777948104679), np.float64(100.6898723796634), np.float64(99.66601706402999), np.float64(104.32738129061586), np.float64(97.09607101655318), np.float64(66.92046114508405), np.float64(104.29276458422574), np.float64(233.9595065842207), np.float64(98.93542939159556), np.float64(94.44465759688434), np.float64(104.29276458422574), np.float64(131.46990888053216), np.float64(100.44655798215933), np.float64(93.0066869154373), np.float64(101.89386672833488), np.float64(138.19424838491938), np.float64(99.15333844314037), np.float64(100.7572070132267), np.float64(101.00345073405585), np.float64(93.27566049561278), np.float64(102.8346724084897), np.float64(93.81336868743938), np.float64(100.64071362657644), np.float64(91.23294793078702), np.float64(106.69166244011659), np.float64(94.99482677769117), np.float64(89.56303325093693), np.float64(110.35313811489736), np.float64(97.80823698269676), np.float64(107.32295134956155), np.float64(112.54313417569816), np.float64(104.39009696149435), np.float64(108.83804473222945), np.float64(102.82220518953208), np.float64(128.40598309284363), np.float64(122.22136961246262), np.float64(98.49707678813492), np.float64(85.98538621032186), np.float64(102.12914121680886), np.float64(101.29418387688382), np.float64(85.35589084987241), np.float64(97.85492576186765), np.float64(107.14958648014795), np.float64(261.6531216854686), np.float64(341.8072485777642), np.float64(56.15730643139536), np.float64(111.61571593378729), np.float64(-81.2881930382793), np.float64(132.448249945471), np.float64(113.88835600778914), np.float64(98.78931185710869), np.float64(101.29418387688382), np.float64(100.70971373893629), np.float64(236.61092000388953), np.float64(93.81336868743938), np.float64(95.83349319766326), np.float64(92.39473679207619), np.float64(100.4801004704569), np.float64(99.58252133003748), np.float64(101.89386672833488), np.float64(13.38716162415136), np.float64(92.55079086854946), np.float64(94.888672823403), np.float64(97.96174069644906), np.float64(90.65692414021458), np.float64(98.05581420276678), np.float64(126.84592910147464), np.float64(97.13990101582353), np.float64(104.29276458422574), np.float64(95.49123036440476), np.float64(99.16504266007496), np.float64(100.58447013794753), np.float64(111.57104127708155), np.float64(127.77671201557828), np.float64(100.0), np.float64(97.86766719013131), np.float64(101.53653393652303), np.float64(99.14416872657682), np.float64(100.96020094091381), np.float64(100.52184833745315), np.float64(75.37973253164652), np.float64(101.0348085694951), np.float64(87.50047959298978), np.float64(-2.790984569846387), np.float64(40.15381138461771), np.float64(77.14734147809241), np.float64(54.27449137016694), np.float64(113.38332488023318), np.float64(143.05390362414633), np.float64(97.77359368381357), np.float64(98.77704441786943), np.float64(83.965261700098), np.float64(103.48071973375623), np.float64(98.68297091155169), np.float64(160.35121974293827), np.float64(133.96334332813888), np.float64(106.36564059416682), np.float64(100.0), np.float64(101.94418579723322), np.float64(98.49482389891622), np.float64(101.3797447593268), np.float64(98.93383359506565), np.float64(85.22783951898792), np.float64(102.90392898344682), np.float64(99.58252133003748), np.float64(101.89386672833488), np.float64(104.32738129061586), np.float64(99.5198995295431), np.float64(108.2157528850823), np.float64(100.70971373893629), np.float64(110.28537002407249), np.float64(102.66541601233585), np.float64(100.0), np.float64(89.59964005754009), np.float64(87.37422181110078), np.float64(234.33827992988768), np.float64(103.64012597986097), np.float64(100.0), np.float64(91.28821304965953), np.float64(96.35987402013903), np.float64(105.42908462122666), np.float64(93.10127620336601), np.float64(97.86766719013131), np.float64(103.40896011100278), np.float64(101.6413511645569), np.float64(101.12888207581284), np.float64(97.09607101655318), np.float64(78.9149504245383), np.float64(101.36504724244786), np.float64(96.81488976762165), np.float64(95.83349319766326), np.float64(59.47125201363351), np.float64(111.38289426444608), np.float64(106.18663131256062), np.float64(94.06588425121737), np.float64(82.7218326729758), np.float64(102.00389761582011), np.float64(104.54528014800371), np.float64(100.0), np.float64(102.65141341966884), np.float64(93.81336868743938), np.float64(95.83349319766326), np.float64(24.245330866604704), np.float64(105.17656905744867), np.float64(10.862005986371543), np.float64(110.9203779395829), np.float64(108.58552916845147), np.float64(105.42908462122666), np.float64(93.95479078344518), np.float64(90.53066635832559), np.float64(90.43586019103016), np.float64(100.0), np.float64(111.3632003700093), np.float64(100.0), np.float64(98.24396121540227), np.float64(99.18469627857962), np.float64(92.29827530477148), np.float64(101.47381826564454), np.float64(114.01461378967814), np.float64(97.2405104813464), np.float64(98.55753956979471), np.float64(103.15644454722481), np.float64(66.92046114508405), np.float64(98.93383359506565), np.float64(108.0903215433253), np.float64(98.68297091155169), np.float64(99.16504266007496), np.float64(99.12198060770113), np.float64(111.32017859356759), np.float64(97.17779481046792), np.float64(98.60144645562555), np.float64(98.30667688628075), np.float64(104.41902236611473), np.float64(101.47381826564454), np.float64(90.90622772261884), np.float64(97.09607101655318), np.float64(51.332639398291164), np.float64(100.98107487441193), np.float64(100.52184833745315), np.float64(94.31839981499536), np.float64(109.64375727613428), np.float64(99.59234813928981), np.float64(100.0), np.float64(101.12888207581284), np.float64(97.09607101655318), np.float64(109.37599279633437), np.float64(112.12074706134325), np.float64(101.94418579723322), np.float64(101.00194880791005), np.float64(102.90392898344682), np.float64(95.83349319766326), np.float64(89.39434632132466), np.float64(98.7489013866436), np.float64(96.84355545277519), np.float64(99.08252768353864), np.float64(97.97987548977612), np.float64(337.6171455150833), np.float64(100.0), np.float64(90.65692414021458), np.float64(94.31839981499536), np.float64(68.68807009152994), np.float64(95.32923184346942), np.float64(100.0), np.float64(91.28821304965953), np.float64(97.08076990216838), np.float64(94.06588425121737), np.float64(120.45376066601673), np.float64(93.5608531236614), np.float64(111.1106848062313), np.float64(105.80785796689364), np.float64(103.15644454722481), np.float64(105.23675851835398), np.float64(93.5608531236614), np.float64(94.44465759688434), np.float64(104.29276458422574), np.float64(139.86834247895746), np.float64(94.49516610123182), np.float64(96.4135173083783), np.float64(76.97978551424214), np.float64(100.31310900247189), np.float64(97.09607101655318), np.float64(96.51405310581293), np.float64(102.65141341966884), np.float64(98.97717725859182), np.float64(99.31116019456184), np.float64(79.1674659883163), np.float64(100.0), np.float64(100.0), np.float64(99.27876978489735), np.float64(94.19214203310636), np.float64(95.0759465063293), np.float64(106.7105767839985), np.float64(91.28821304965953), np.float64(98.90247575962641), np.float64(94.06588425121737), np.float64(93.10127620336601), np.float64(97.86766719013131), np.float64(99.15333844314037), np.float64(101.22295558213057), np.float64(95.95975097955225), np.float64(99.21605411401886), np.float64(109.37599279633437), np.float64(96.98964779783245), np.float64(92.17201752288248), np.float64(92.67704865043845), np.float64(98.05581420276678), np.float64(104.29276458422574), np.float64(98.03785025117614), np.float64(99.58252133003748), np.float64(101.89386672833488), np.float64(97.5994976477155), np.float64(100.27136113547564), np.float64(99.24853839406745), np.float64(99.5198995295431), np.float64(105.80525376807137), np.float64(98.13610581359582), np.float64(101.94418579723322), np.float64(99.0680529067979), np.float64(99.55344201784067), np.float64(101.0348085694951), np.float64(187.68538713720926), np.float64(99.21605411401886), np.float64(100.0), np.float64(84.72280839143195), np.float64(98.33803472171999), np.float64(90.2781507945476), np.float64(111.3632003700093), np.float64(82.78569086876874), np.float64(88.70310963262948), np.float64(103.53521789289178), np.float64(54.42094073807383), np.float64(111.3632003700093), np.float64(91.54072861343752), np.float64(91.54072861343752), np.float64(108.33301360467348), np.float64(105.42908462122666), np.float64(127.5241964518003), np.float64(100.0), np.float64(100.0), np.float64(108.58552916845147), np.float64(100.0), np.float64(99.15333844314037), np.float64(99.59234813928981), np.float64(95.45471985199629), np.float64(97.09607101655318), np.float64(62.24892321519134), np.float64(100.0), np.float64(90.4044085764366), np.float64(113.88835600778914), np.float64(92.67704865043845), np.float64(107.82798247711752), np.float64(98.93383359506565), np.float64(112.5117763402589), np.float64(98.54383266687174), np.float64(104.10787644254114), np.float64(99.00980621347277), np.float64(102.4145533288219), np.float64(19.03895236717794), np.float64(177.4643910905407), np.float64(100.0), np.float64(118.55917703210872), np.float64(115.06252048982736), np.float64(88.434136052454), np.float64(127.77671201557828), np.float64(92.67704865043845), np.float64(79.28903432648738), np.float64(90.04797753350692), np.float64(95.95975097955225), np.float64(103.15644454722481), np.float64(74.36967027653459), np.float64(100.0), np.float64(116.6763619708803), np.float64(106.06037353067163), np.float64(111.8348375277215), np.float64(90.85489827403339), np.float64(115.33398152979099), np.float64(91.28821304965953), np.float64(97.80495151925282), np.float64(98.68297091155169), np.float64(10.969744961913278), np.float64(98.99654926594415), np.float64(113.44867900877443), np.float64(110.75894320701954), np.float64(92.46873975508632), np.float64(210.81711503230127), np.float64(88.434136052454), np.float64(120.45376066601673), np.float64(97.5854466711781), np.float64(94.82343094255133), np.float64(87.62721531192753), np.float64(103.15644454722481), np.float64(180.42310047247108), np.float64(120.44199209333713), np.float64(70.41290618069625), np.float64(98.49482389891622), np.float64(99.27876978489735), np.float64(108.87612814579113), np.float64(197.09946244335137), np.float64(75.79237778420602), np.float64(98.24396121540227), np.float64(99.18469627857962), np.float64(101.91282796179397), np.float64(112.64175826824797), np.float64(-74.02590637354109), np.float64(98.65161307611245), np.float64(136.36224118402976), np.float64(100.0), np.float64(99.15333844314037), np.float64(101.22295558213057), np.float64(95.96539629736768), np.float64(106.18639234403624), np.float64(104.57824397412983), np.float64(113.17970542859894), np.float64(108.87612814579113), np.float64(85.22783951898792), np.float64(96.50961226146975), np.float64(101.66813148447521), np.float64(101.89386672833488), np.float64(117.51538058698966), np.float64(100.0), np.float64(108.58552916845147), np.float64(99.47577976007382), np.float64(95.0759465063293), np.float64(95.95975097955225), np.float64(103.15644454722481), np.float64(71.21322572930978), np.float64(107.16434327899108), np.float64(61.49137652385739), np.float64(105.25461417609691), np.float64(92.31143648108274), np.float64(95.9964844372595), np.float64(94.44465759688434), np.float64(97.16417647639214), np.float64(84.42871731774838), np.float64(100.0), np.float64(105.17656905744867), np.float64(105.50483389876818), np.float64(98.02717214778725), np.float64(103.75329584006921), np.float64(142.0364088509947), np.float64(106.82901948842874), np.float64(91.49598277453092), np.float64(97.09607101655318), np.float64(134.60036540803895), np.float64(108.62051061211935), np.float64(148.45921962400476), np.float64(100.0), np.float64(121.21130735735068), np.float64(98.6797416179637), np.float64(106.50571278945331), np.float64(103.66147567478077), np.float64(106.25549306678202), np.float64(100.22251536425624), np.float64(95.38484027553342), np.float64(48.28792398126858), np.float64(104.22514622662433), np.float64(95.18983352661229), np.float64(83.3236380291197), np.float64(78.56451042449359), np.float64(121.78685999421458), np.float64(64.4954874168355), np.float64(94.82879239812686), np.float64(90.85489827403339), np.float64(138.84953308972794), np.float64(95.75083231831101), np.float64(108.71178695034047), np.float64(105.42908462122666), np.float64(96.50961226146975), np.float64(99.08252768353864), np.float64(97.97987548977612), np.float64(130.9319617201812), np.float64(100.0), np.float64(100.0), np.float64(101.6413511645569), np.float64(105.46321559074299), np.float64(97.09607101655318), np.float64(102.8346724084897), np.float64(107.43604344295574), np.float64(95.83349319766326), np.float64(118.46877523326754), np.float64(116.8481279931996), np.float64(93.8722691997129), np.float64(109.81533969569654), np.float64(110.5092283521938), np.float64(105.78520021799332), np.float64(93.30163026760997), np.float64(100.0), np.float64(100.0), np.float64(59.92293655385221), np.float64(103.16473700399877), np.float64(105.75505362143946), np.float64(94.16153980433677), np.float64(93.6262484774665), np.float64(107.55265456782529), np.float64(106.25549306678202), np.float64(96.19454936942479), np.float64(104.58736158230681), np.float64(81.78928136419003), np.float64(98.71857274684713), np.float64(88.434136052454), np.float64(-0.6142204628500991), np.float64(100.0), np.float64(92.41000174563781), np.float64(100.0), np.float64(100.0), np.float64(115.17559886317498), np.float64(104.75417473075434), np.float64(86.28234741105008), np.float64(97.2475830506159), np.float64(237.17652588949917), np.float64(110.92643118148598), np.float64(102.15512765302984), np.float64(72.56469482210017), np.float64(94.82879239812686), np.float64(85.23703636239442), np.float64(97.43714549369425), np.float64(83.3236380291197), np.float64(90.85489827403339), np.float64(110.47116321559074), np.float64(96.84355545277519), np.float64(100.22961326847938), np.float64(97.97987548977612), np.float64(73.48586580331164), np.float64(81.70979654806678), np.float64(99.47577976007382), np.float64(103.25285639472665), np.float64(95.95975097955225), np.float64(103.15644454722481), np.float64(52.653331791627934), np.float64(83.30684125050752), np.float64(92.67704865043845), np.float64(107.82798247711752), np.float64(104.29276458422574), np.float64(118.55917703210872), np.float64(103.79389971579374), np.float64(98.33068412505075), np.float64(101.33450518758016), np.float64(121.54935038570846), np.float64(100.9513626576438), np.float64(99.28162411565673), np.float64(108.60715456561563), np.float64(93.27566049561278), np.float64(127.02373004849835), np.float64(94.82879239812686), np.float64(97.16417647639214), np.float64(139.15304506699144), np.float64(96.49692388260206), np.float64(99.47577976007382), np.float64(95.0759465063293), np.float64(130.10977329477748), np.float64(86.34196102314252), np.float64(91.54072861343752), np.float64(91.80517661388551), np.float64(99.32045524454014), np.float64(94.06588425121737), np.float64(129.19230097831613), np.float64(110.92643118148598), np.float64(90.13586073893626), np.float64(101.08544454190256), np.float64(109.56062728380023), np.float64(142.0438413690344), np.float64(100.0), np.float64(98.13610581359582), np.float64(92.17201752288248), np.float64(99.0680529067979), np.float64(94.44465759688434), np.float64(104.29276458422574), np.float64(101.18434943094432), np.float64(103.3386317498985), np.float64(100.31064903106737), np.float64(138.19424838491938), np.float64(100.9513626576438), np.float64(96.91395675372087), np.float64(108.60715456561563), np.float64(99.51461088895725), np.float64(-47.96326267295086), np.float64(110.47116321559074), np.float64(97.08076990216838), np.float64(100.91253152876038), np.float64(106.79544755459858), np.float64(81.97877012824227), np.float64(100.0), np.float64(95.82967128881198), np.float64(100.0), np.float64(101.41733620424485), np.float64(105.25461417609691), np.float64(85.23703636239442), np.float64(64.4954874168355), np.float64(83.3236380291197), np.float64(97.16417647639214), np.float64(-1.0062255111937333), np.float64(111.72700092279298), np.float64(100.0), np.float64(104.69856659489388), np.float64(57.23320075209732), np.float64(99.0680529067979), np.float64(102.17454321747155), np.float64(189.89554070496243), np.float64(100.0), np.float64(98.6797416179637), np.float64(101.5144140264534)]\n"
     ]
    }
   ],
   "source": [
    "# tester??\n",
    "data_pitch_avg_rundiff_dict = {'4-Seam Fastball' : data[data['pitch_name'] == '4-Seam Fastball']['delta_run_exp'].mean(), \n",
    "'Sinker' : data[data['pitch_name'] == 'Sinker']['delta_run_exp'].mean(), \n",
    "'Split-Finger' : data[data['pitch_name'] == 'Split-Finger']['delta_run_exp'].mean(), \n",
    "'Changeup' : data[data['pitch_name'] == 'Changeup']['delta_run_exp'].mean(), \n",
    "'Forkball' : data[data['pitch_name'] == 'Forkball']['delta_run_exp'].mean(), \n",
    "'Curveball' : data[data['pitch_name'] == 'Curveball']['delta_run_exp'].mean(), \n",
    "'Slider' : data[data['pitch_name'] == 'Slider']['delta_run_exp'].mean(), \n",
    "'Cutter' : data[data['pitch_name'] == 'Cutter']['delta_run_exp'].mean(), \n",
    "'Knuckle Curve' : data[data['pitch_name'] == 'Knuckle Curve']['delta_run_exp'].mean(), \n",
    "'Sweeper' : data[data['pitch_name'] == 'Sweeper']['delta_run_exp'].mean(), \n",
    "'Screwball' : data[data['pitch_name'] == 'Screwball']['delta_run_exp'].mean(), \n",
    "'Slow Curve' : data[data['pitch_name'] == 'Slow Curve']['delta_run_exp'].mean(),\n",
    "'Slurve' : data[data['pitch_name'] == 'Slurve']['delta_run_exp'].mean()}\n",
    "\n",
    "stuff_list = []\n",
    "for index, pitch in data.head(1000).iterrows():\n",
    "    name_of_pitch = pitch['pitch_name']\n",
    "\n",
    "    if (name_of_pitch in data_pitch_avg_rundiff_dict):\n",
    "        pitch_mlb_delta = data_pitch_avg_rundiff_dict[name_of_pitch]\n",
    "        stuff = 100 + ((pitch['delta_run_exp']/pitch_mlb_delta) / 20)\n",
    "        stuff_list.append(stuff)\n",
    "\n",
    "print(stuff_list)"
   ]
  },
  {
   "cell_type": "code",
   "execution_count": 13,
   "id": "1ee615ea-9367-4b5c-9e0b-21088ae96d19",
   "metadata": {},
   "outputs": [
    {
     "name": "stdout",
     "output_type": "stream",
     "text": [
      "0.00039601519408887436\n",
      "85.83590061287191\n"
     ]
    }
   ],
   "source": [
    "league_avg_run_exp = data_pitch_avg_rundiff_dict['4-Seam Fastball']\n",
    "print(league_avg_run_exp)\n",
    "\n",
    "\n",
    "strider = data[data['player_name'] == \"Strider, Spencer\"]\n",
    "Strider_fastball = strider[strider['pitch_name'] == '4-Seam Fastball']\n",
    "Strider_fastball_exp = Strider_fastball['delta_run_exp'].mean()\n",
    "Strider_fastball_stuff = 100 + ((Strider_fastball_exp/league_avg_run_exp) / 1)\n",
    "print(Strider_fastball_stuff)"
   ]
  },
  {
   "cell_type": "code",
   "execution_count": 15,
   "id": "6255a165-910d-4a76-99ab-ce4af269c5ef",
   "metadata": {},
   "outputs": [
    {
     "name": "stdout",
     "output_type": "stream",
     "text": [
      "{'4-Seam Fastball': np.float64(0.00039601519408887436), 'Sinker': np.float64(-0.00018589186331006229), 'Split-Finger': np.float64(-0.002921146601146601), 'Changeup': np.float64(0.002395331958132783), 'Forkball': np.float64(-0.006101910828025479), 'Curveball': np.float64(0.000769204147189143), 'Slider': np.float64(-0.001594497812097812), 'Cutter': np.float64(-0.0005994731286512461), 'Knuckle Curve': np.float64(-0.0003294762892114243), 'Sweeper': np.float64(-0.0025752534854245877), 'Screwball': np.float64(0.031214007782101167), 'Slow Curve': np.float64(0.025886153846153847), 'Slurve': np.float64(-0.005104555064385932)}\n",
      "-2.1138782766446598e-05\n"
     ]
    }
   ],
   "source": [
    "print(data_pitch_avg_rundiff_dict)\n",
    "league_avg_run_exp = data['delta_run_exp'].mean()\n",
    "print(league_avg_run_exp)"
   ]
  },
  {
   "cell_type": "code",
   "execution_count": 30,
   "id": "0a2e0d90-f7f5-4f93-bf01-b4c07628a866",
   "metadata": {},
   "outputs": [
    {
     "name": "stdout",
     "output_type": "stream",
     "text": [
      "0.00039601519408887436\n",
      "-0.010448375574077226\n",
      "99.34040563783694\n"
     ]
    }
   ],
   "source": [
    "league_avg_run_exp = data_pitch_avg_rundiff_dict['4-Seam Fastball']\n",
    "print(league_avg_run_exp)\n",
    "#league_avg_run_exp = data['delta_run_exp'].mean()\n",
    "\n",
    "cole = data[data['player_name'] == \"Cole, Gerrit\"]\n",
    "cole_fastball = cole[cole['pitch_name'] == '4-Seam Fastball']\n",
    "cole_fastball_exp = cole_fastball['delta_run_exp'].mean()\n",
    "print(cole_fastball_exp)\n",
    "cole_fastball_stuff = 100 + ((cole_fastball_exp/league_avg_run_exp) / 40)\n",
    "print(cole_fastball_stuff)"
   ]
  },
  {
   "cell_type": "code",
   "execution_count": 31,
   "id": "bf474031-3d41-40d2-8616-08a98708fdab",
   "metadata": {},
   "outputs": [
    {
     "ename": "NameError",
     "evalue": "name 'sns' is not defined",
     "output_type": "error",
     "traceback": [
      "\u001b[0;31m---------------------------------------------------------------------------\u001b[0m",
      "\u001b[0;31mNameError\u001b[0m                                 Traceback (most recent call last)",
      "Cell \u001b[0;32mIn[31], line 1\u001b[0m\n\u001b[0;32m----> 1\u001b[0m \u001b[43msns\u001b[49m\u001b[38;5;241m.\u001b[39mhistplot(data[\u001b[38;5;124m'\u001b[39m\u001b[38;5;124mdelta_run_exp\u001b[39m\u001b[38;5;124m'\u001b[39m], kde\u001b[38;5;241m=\u001b[39m\u001b[38;5;28;01mTrue\u001b[39;00m, bins\u001b[38;5;241m=\u001b[39m\u001b[38;5;241m50\u001b[39m)\n\u001b[1;32m      2\u001b[0m plt\u001b[38;5;241m.\u001b[39mtitle(\u001b[38;5;124m'\u001b[39m\u001b[38;5;124mDistribution of delta_run_exp\u001b[39m\u001b[38;5;124m'\u001b[39m)\n\u001b[1;32m      3\u001b[0m plt\u001b[38;5;241m.\u001b[39mxlabel(\u001b[38;5;124m'\u001b[39m\u001b[38;5;124mDelta Run Expectancy\u001b[39m\u001b[38;5;124m'\u001b[39m)\n",
      "\u001b[0;31mNameError\u001b[0m: name 'sns' is not defined"
     ]
    }
   ],
   "source": [
    "sns.histplot(data['delta_run_exp'], kde=True, bins=50)\n",
    "plt.title('Distribution of delta_run_exp')\n",
    "plt.xlabel('Delta Run Expectancy')\n",
    "plt.ylabel('Frequency')\n",
    "plt.show()"
   ]
  },
  {
   "cell_type": "code",
   "execution_count": 33,
   "id": "c19c4e6d-e6bf-4c56-a0c0-b51a674b1cfb",
   "metadata": {},
   "outputs": [],
   "source": [
    "# Calculate league average delta_run_exp\n",
    "delta_run_exp_avg = data['delta_run_exp'].mean()\n",
    "\n",
    "# Transform predicted delta_run_exp into Stuff+ score\n",
    "data['Stuff+'] = (data['delta_run_exp'] / delta_run_exp_avg) * 100\n",
    "\n",
    "# Ensure MLB average pitch = 100\n",
    "data['Stuff+'] = data['Stuff+'].apply(lambda x: max(50, min(x, 150)))  # Cap values between 50 and 150\n"
   ]
  },
  {
   "cell_type": "code",
   "execution_count": 42,
   "id": "0a9eeb55-d255-48c2-b994-1d47d7c4c6ce",
   "metadata": {},
   "outputs": [
    {
     "data": {
      "text/plain": [
       "np.float64(102.92229729729729)"
      ]
     },
     "execution_count": 42,
     "metadata": {},
     "output_type": "execute_result"
    }
   ],
   "source": [
    "cole = data[data['player_name'] == \"Cole, Gerrit\"]\n",
    "cole['Stuff+'].mean()\n",
    "clase = data[data['player_name'] == \"Clase, Emmanuel\"]\n",
    "clase['Stuff+'].mean()\n",
    "strider = data[data['player_name'] == \"Strider, Spencer\"]\n",
    "strider['Stuff+'].mean()"
   ]
  },
  {
   "cell_type": "code",
   "execution_count": 48,
   "id": "fb9539eb-83cb-459f-8625-0c4af0247f3b",
   "metadata": {},
   "outputs": [],
   "source": [
    "swings_and_misses = data[data['description'].isin(['swinging_strike', 'swinging_strike_blocked'])]"
   ]
  },
  {
   "cell_type": "code",
   "execution_count": 56,
   "id": "45f7f531-4d67-4d43-91b0-ccbca1c7c892",
   "metadata": {},
   "outputs": [],
   "source": [
    "stride_swm = swings_and_misses[swings_and_misses['player_name'] == \"Strider, Spencer\"]\n",
    "stride_gen = data[data['player_name'] == \"Strider, Spencer\"]"
   ]
  },
  {
   "cell_type": "code",
   "execution_count": 57,
   "id": "de7ab704-0f49-47d2-bb6c-e524050f9345",
   "metadata": {},
   "outputs": [
    {
     "data": {
      "text/plain": [
       "0.17635135135135135"
      ]
     },
     "execution_count": 57,
     "metadata": {},
     "output_type": "execute_result"
    }
   ],
   "source": [
    "len(stride_swm) / len(stride_gen)"
   ]
  },
  {
   "cell_type": "code",
   "execution_count": 58,
   "id": "feeaf42d-5acf-439e-b4c9-8f25ab84ccb2",
   "metadata": {},
   "outputs": [
    {
     "data": {
      "text/plain": [
       "0.131678926521704"
      ]
     },
     "execution_count": 58,
     "metadata": {},
     "output_type": "execute_result"
    }
   ],
   "source": [
    "cole_swm = swings_and_misses[swings_and_misses['player_name'] == \"Cole, Gerrit\"]\n",
    "cole_gen = data[data['player_name'] == \"Cole, Gerrit\"]\n",
    "len(cole_swm) / len(cole_gen)"
   ]
  },
  {
   "cell_type": "code",
   "execution_count": 59,
   "id": "01f5bcb3-dda7-4284-8369-c71d4baaac44",
   "metadata": {},
   "outputs": [
    {
     "data": {
      "text/plain": [
       "0.08343494164779655"
      ]
     },
     "execution_count": 59,
     "metadata": {},
     "output_type": "execute_result"
    }
   ],
   "source": [
    "bum_swm = swings_and_misses[swings_and_misses['player_name'] == \"Bumgarner, Madison\"]\n",
    "bum_gen = data[data['player_name'] == \"Bumgarner, Madison\"]\n",
    "len(bum_swm) / len(bum_gen)"
   ]
  },
  {
   "cell_type": "code",
   "execution_count": 60,
   "id": "bdc5548d-202e-482f-aabc-908ed63cfdc2",
   "metadata": {},
   "outputs": [
    {
     "data": {
      "text/plain": [
       "0.1412892128757474"
      ]
     },
     "execution_count": 60,
     "metadata": {},
     "output_type": "execute_result"
    }
   ],
   "source": [
    "burnes_swm = swings_and_misses[swings_and_misses['player_name'] == \"Burnes, Corbin\"]\n",
    "burnes_gen = data[data['player_name'] == \"Burnes, Corbin\"]\n",
    "len(burnes_swm) / len(burnes_gen)"
   ]
  },
  {
   "cell_type": "code",
   "execution_count": null,
   "id": "f0aced12-5755-45e5-acca-cc2e45655473",
   "metadata": {},
   "outputs": [],
   "source": []
  },
  {
   "cell_type": "raw",
   "id": "b3d72c3f-e877-4e63-b7fe-ee2b639a08f4",
   "metadata": {},
   "source": [
    "What we are going to do:\n",
    "- find every single pitcher, find their specific pitches, find swing and miss rates on said pitches\n",
    "    - unique pitcher, unique pitch, whiff rate: use this \n"
   ]
  }
 ],
 "metadata": {
  "kernelspec": {
   "display_name": "Python 3 (ipykernel)",
   "language": "python",
   "name": "python3"
  },
  "language_info": {
   "codemirror_mode": {
    "name": "ipython",
    "version": 3
   },
   "file_extension": ".py",
   "mimetype": "text/x-python",
   "name": "python",
   "nbconvert_exporter": "python",
   "pygments_lexer": "ipython3",
   "version": "3.12.5"
  }
 },
 "nbformat": 4,
 "nbformat_minor": 5
}
