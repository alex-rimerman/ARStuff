{
 "cells": [
  {
   "cell_type": "code",
   "execution_count": 1,
   "id": "42533fbe-6599-4740-b404-a6c0b1b9feeb",
   "metadata": {},
   "outputs": [],
   "source": [
    "import pandas as pd\n",
    "import numpy as np\n",
    "import pandas as pd\n",
    "import numpy as np\n",
    "from sklearn.model_selection import train_test_split, RandomizedSearchCV\n",
    "from sklearn.metrics import mean_absolute_error\n",
    "from sklearn.metrics import mean_squared_error\n",
    "from pybaseball import statcast, cache\n",
    "#from catboost import CatBoostClassifier\n",
    "from xgboost import XGBClassifier\n",
    "import joblib\n",
    "import math\n",
    "from pybaseball import statcast\n",
    "import scipy.stats as stats\n",
    "#from catboost import Pool\n",
    "#import optuna\n",
    "from sklearn.metrics import log_loss\n",
    "from sklearn.metrics import accuracy_score, precision_score\n",
    "import sqlite3\n",
    "cache.enable()"
   ]
  },
  {
   "cell_type": "code",
   "execution_count": 2,
   "id": "37a2a955-4934-4d80-bc1d-971415364c9f",
   "metadata": {},
   "outputs": [],
   "source": [
    "data = pd.read_csv('savant_data.csv')"
   ]
  },
  {
   "cell_type": "code",
   "execution_count": 3,
   "id": "aeccb7d7-444c-482c-a748-e8ac1dd87271",
   "metadata": {},
   "outputs": [
    {
     "data": {
      "text/plain": [
       "np.float64(87.4898731408574)"
      ]
     },
     "execution_count": 3,
     "metadata": {},
     "output_type": "execute_result"
    }
   ],
   "source": [
    "data['velocity'].mean()"
   ]
  },
  {
   "cell_type": "code",
   "execution_count": 4,
   "id": "963e3768-642f-416d-819a-96c79a81e713",
   "metadata": {},
   "outputs": [
    {
     "data": {
      "text/plain": [
       "np.float64(0.07985149726776056)"
      ]
     },
     "execution_count": 4,
     "metadata": {},
     "output_type": "execute_result"
    }
   ],
   "source": [
    "# First, let's select the key features for the \"Stuff+\" model as discussed:\n",
    "# - 'pitch_type'\n",
    "# - 'pitch_percent'\n",
    "# - 'swing_miss_percent'\n",
    "# - 'arm_angle'\n",
    "# - 'xbadiff'\n",
    "# - 'xobp'\n",
    "# - 'xslg'\n",
    "# - 'pitcher_run_value_per_100'\n",
    "# - 'batter_run_value_per_100'\n",
    "\n",
    "# We will also select 'swing_miss_percent' as our initial target variable\n",
    "\n",
    "# Selecting the relevant features\n",
    "selected_columns = [\n",
    "    'pitch_type', 'pitch_percent', 'swing_miss_percent', 'arm_angle', \n",
    "    'xbadiff', 'xobp', 'xslg', 'pitcher_run_value_per_100', 'batter_run_value_per_100'\n",
    "]\n",
    "\n",
    "data = data.dropna(subset=selected_columns)\n",
    "\n",
    "# Extracting the features and target variable\n",
    "features = data[selected_columns]\n",
    "target = data['swing_miss_percent']\n",
    "\n",
    "# One-hot encoding the categorical 'pitch_type' column to handle it in the model\n",
    "features_encoded = pd.get_dummies(features, columns=['pitch_type'], drop_first=True)\n",
    "\n",
    "# Splitting the data into training and testing sets for modeling\n",
    "from sklearn.model_selection import train_test_split\n",
    "\n",
    "X_train, X_test, y_train, y_test = train_test_split(features_encoded, target, test_size=0.2, random_state=42)\n",
    "\n",
    "# We will now train an initial regression model. I'll start with a Random Forest Regressor\n",
    "from sklearn.ensemble import RandomForestRegressor\n",
    "from sklearn.metrics import mean_squared_error\n",
    "\n",
    "# Initialize the model\n",
    "rf_model = RandomForestRegressor(random_state=42)\n",
    "\n",
    "# Train the model\n",
    "rf_model.fit(X_train, y_train)\n",
    "\n",
    "# Predict on the test set\n",
    "y_pred = rf_model.predict(X_test)\n",
    "\n",
    "# Calculate the mean squared error for performance evaluation\n",
    "mse = mean_squared_error(y_test, y_pred)\n",
    "mse\n"
   ]
  },
  {
   "cell_type": "code",
   "execution_count": 5,
   "id": "0460b437-6bb3-4ce8-a25c-7d48da6f933c",
   "metadata": {},
   "outputs": [
    {
     "name": "stdout",
     "output_type": "stream",
     "text": [
      "      Actual  Predicted\n",
      "538     36.2     36.195\n",
      "1822    18.1     18.100\n",
      "534     27.3     27.300\n",
      "2119    29.6     29.604\n",
      "561     36.6     36.594\n",
      "...      ...        ...\n",
      "744     29.3     29.300\n",
      "733     30.3     30.300\n",
      "2647    19.4     19.400\n",
      "4149    25.6     25.598\n",
      "3819    18.7     18.701\n",
      "\n",
      "[915 rows x 2 columns]\n"
     ]
    }
   ],
   "source": [
    "comparison = pd.DataFrame({\n",
    "    'Actual': y_test,\n",
    "    'Predicted': y_pred\n",
    "})\n",
    "\n",
    "print(comparison)"
   ]
  },
  {
   "cell_type": "code",
   "execution_count": 18,
   "id": "ecaa6a9a-2852-4986-9d5c-320d55b89a02",
   "metadata": {},
   "outputs": [
    {
     "data": {
      "text/html": [
       "<div>\n",
       "<style scoped>\n",
       "    .dataframe tbody tr th:only-of-type {\n",
       "        vertical-align: middle;\n",
       "    }\n",
       "\n",
       "    .dataframe tbody tr th {\n",
       "        vertical-align: top;\n",
       "    }\n",
       "\n",
       "    .dataframe thead th {\n",
       "        text-align: right;\n",
       "    }\n",
       "</style>\n",
       "<table border=\"1\" class=\"dataframe\">\n",
       "  <thead>\n",
       "    <tr style=\"text-align: right;\">\n",
       "      <th></th>\n",
       "      <th>swing_miss_percent</th>\n",
       "      <th>xobp</th>\n",
       "      <th>pitcher_run_value_per_100</th>\n",
       "      <th>Stuff+</th>\n",
       "    </tr>\n",
       "  </thead>\n",
       "  <tbody>\n",
       "    <tr>\n",
       "      <th>0</th>\n",
       "      <td>44.9</td>\n",
       "      <td>0.234</td>\n",
       "      <td>1.495762</td>\n",
       "      <td>153.506925</td>\n",
       "    </tr>\n",
       "    <tr>\n",
       "      <th>1</th>\n",
       "      <td>25.7</td>\n",
       "      <td>0.311</td>\n",
       "      <td>1.273859</td>\n",
       "      <td>151.563868</td>\n",
       "    </tr>\n",
       "    <tr>\n",
       "      <th>2</th>\n",
       "      <td>39.5</td>\n",
       "      <td>0.261</td>\n",
       "      <td>1.302039</td>\n",
       "      <td>139.285099</td>\n",
       "    </tr>\n",
       "    <tr>\n",
       "      <th>3</th>\n",
       "      <td>26.0</td>\n",
       "      <td>0.285</td>\n",
       "      <td>1.117130</td>\n",
       "      <td>135.211261</td>\n",
       "    </tr>\n",
       "    <tr>\n",
       "      <th>4</th>\n",
       "      <td>28.9</td>\n",
       "      <td>0.281</td>\n",
       "      <td>1.143414</td>\n",
       "      <td>132.471600</td>\n",
       "    </tr>\n",
       "  </tbody>\n",
       "</table>\n",
       "</div>"
      ],
      "text/plain": [
       "   swing_miss_percent   xobp  pitcher_run_value_per_100      Stuff+\n",
       "0                44.9  0.234                   1.495762  153.506925\n",
       "1                25.7  0.311                   1.273859  151.563868\n",
       "2                39.5  0.261                   1.302039  139.285099\n",
       "3                26.0  0.285                   1.117130  135.211261\n",
       "4                28.9  0.281                   1.143414  132.471600"
      ]
     },
     "execution_count": 18,
     "metadata": {},
     "output_type": "execute_result"
    }
   ],
   "source": [
    "#mean_whiff = data['swing_miss_percent'].mean()\n",
    "#data['Stuff+'] = (data['swing_miss_percent'] / mean_whiff) * 100\n",
    "\n",
    "# Normalizing the columns\n",
    "data['SwingMiss_norm'] = (data['swing_miss_percent'] / data['swing_miss_percent'].max()) * 100\n",
    "data['xwOBA_norm'] = (1 - (data['xwoba'] / data['xwoba'].max())) * 100 # Inverse\n",
    "data['RunExp_norm'] = (1 - (data['run_exp'] / data['run_exp'].max())) * 100  # Inverse\n",
    "\n",
    "# Assigning weights\n",
    "w1, w2, w3 = .3, .2, .5\n",
    "\n",
    "# Calculating Stuff+\n",
    "data['Stuff+'] = (\n",
    "    w1 * data['SwingMiss_norm'] +\n",
    "    w2 * data['xwOBA_norm'] +\n",
    "    w3 * data['RunExp_norm']\n",
    ")\n",
    "\n",
    "# Display the first few rows of the Stuff+ calculation\n",
    "data[['swing_miss_percent', 'xobp', 'pitcher_run_value_per_100', 'Stuff+']].head()\n"
   ]
  },
  {
   "cell_type": "code",
   "execution_count": 19,
   "id": "535be298-1770-46d8-b94e-71ebb76f44d4",
   "metadata": {},
   "outputs": [],
   "source": [
    "# Sort the DataFrame by the 'Stuff+' column in descending order (higher Stuff+ is better)\n",
    "features_sorted = data.sort_values(by='Stuff+', ascending=False)\n",
    "features_sorted.to_csv('savant_data.csv', index=False)"
   ]
  },
  {
   "cell_type": "code",
   "execution_count": 20,
   "id": "e69d4dcc-8f45-44f8-879e-729e7448f1a8",
   "metadata": {},
   "outputs": [
    {
     "data": {
      "text/plain": [
       "\"\\ndata['SwingMiss_norm'] = (data['swing_miss_percent'] / data['swing_miss_percent'].mean()) * 100\\ndata['xwOBA_norm'] = ((data['xwoba'] / data['xwoba'].mean())) * 100 # Inverse\\ndata['RunExp_norm'] = ((data['run_exp'] / data['run_exp'].mean())) * 100  # Inverse\\n\\n# Assigning weights\\nw1, w2, w3 = .3, .2, .5\\n\\n# Calculating Stuff+\\ndata['Stuff+'] = (\\n    w1 * data['SwingMiss_norm'] +\\n    w2 * data['xwOBA_norm'] +\\n    w3 * data['RunExp_norm']\\n)\\n\\n# Display the first few rows of the Stuff+ calculation\\ndata[['swing_miss_percent', 'xobp', 'pitcher_run_value_per_100', 'Stuff+']].head()\\n\""
      ]
     },
     "execution_count": 20,
     "metadata": {},
     "output_type": "execute_result"
    }
   ],
   "source": [
    "'''\n",
    "data['SwingMiss_norm'] = (data['swing_miss_percent'] / data['swing_miss_percent'].mean()) * 100\n",
    "data['xwOBA_norm'] = ((data['xwoba'] / data['xwoba'].mean())) * 100 # Inverse\n",
    "data['RunExp_norm'] = ((data['run_exp'] / data['run_exp'].mean())) * 100  # Inverse\n",
    "\n",
    "# Assigning weights\n",
    "w1, w2, w3 = .3, .2, .5\n",
    "\n",
    "# Calculating Stuff+\n",
    "data['Stuff+'] = (\n",
    "    w1 * data['SwingMiss_norm'] +\n",
    "    w2 * data['xwOBA_norm'] +\n",
    "    w3 * data['RunExp_norm']\n",
    ")\n",
    "\n",
    "# Display the first few rows of the Stuff+ calculation\n",
    "data[['swing_miss_percent', 'xobp', 'pitcher_run_value_per_100', 'Stuff+']].head()\n",
    "'''"
   ]
  },
  {
   "cell_type": "code",
   "execution_count": null,
   "id": "7e5867ad-90b4-432f-83d9-4438bb8913fd",
   "metadata": {},
   "outputs": [],
   "source": []
  }
 ],
 "metadata": {
  "kernelspec": {
   "display_name": "Python 3 (ipykernel)",
   "language": "python",
   "name": "python3"
  },
  "language_info": {
   "codemirror_mode": {
    "name": "ipython",
    "version": 3
   },
   "file_extension": ".py",
   "mimetype": "text/x-python",
   "name": "python",
   "nbconvert_exporter": "python",
   "pygments_lexer": "ipython3",
   "version": "3.12.5"
  }
 },
 "nbformat": 4,
 "nbformat_minor": 5
}
