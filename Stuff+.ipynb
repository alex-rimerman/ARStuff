{
 "cells": [
  {
   "cell_type": "code",
   "execution_count": 1,
   "id": "42533fbe-6599-4740-b404-a6c0b1b9feeb",
   "metadata": {},
   "outputs": [],
   "source": [
    "import pandas as pd\n",
    "import numpy as np\n",
    "import pandas as pd\n",
    "import numpy as np\n",
    "from sklearn.model_selection import train_test_split, RandomizedSearchCV\n",
    "from sklearn.metrics import mean_absolute_error\n",
    "from sklearn.metrics import mean_squared_error\n",
    "from pybaseball import statcast, cache\n",
    "#from catboost import CatBoostClassifier\n",
    "from xgboost import XGBClassifier\n",
    "import joblib\n",
    "import math\n",
    "from pybaseball import statcast\n",
    "import scipy.stats as stats\n",
    "#from catboost import Pool\n",
    "#import optuna\n",
    "from sklearn.metrics import log_loss\n",
    "from sklearn.metrics import accuracy_score, precision_score\n",
    "import sqlite3\n",
    "cache.enable()"
   ]
  },
  {
   "cell_type": "code",
   "execution_count": 2,
   "id": "37a2a955-4934-4d80-bc1d-971415364c9f",
   "metadata": {},
   "outputs": [],
   "source": [
    "data = pd.read_csv('savant_data.csv')"
   ]
  },
  {
   "cell_type": "code",
   "execution_count": 3,
   "id": "aeccb7d7-444c-482c-a748-e8ac1dd87271",
   "metadata": {},
   "outputs": [
    {
     "data": {
      "text/plain": [
       "np.float64(87.48987314085738)"
      ]
     },
     "execution_count": 3,
     "metadata": {},
     "output_type": "execute_result"
    }
   ],
   "source": [
    "data['velocity'].mean()"
   ]
  },
  {
   "cell_type": "code",
   "execution_count": 4,
   "id": "963e3768-642f-416d-819a-96c79a81e713",
   "metadata": {},
   "outputs": [
    {
     "data": {
      "text/plain": [
       "np.float64(0.0754832961748642)"
      ]
     },
     "execution_count": 4,
     "metadata": {},
     "output_type": "execute_result"
    }
   ],
   "source": [
    "# First, let's select the key features for the \"Stuff+\" model as discussed:\n",
    "# - 'pitch_type'\n",
    "# - 'pitch_percent'\n",
    "# - 'swing_miss_percent'\n",
    "# - 'arm_angle'\n",
    "# - 'xbadiff'\n",
    "# - 'xobp'\n",
    "# - 'xslg'\n",
    "# - 'pitcher_run_value_per_100'\n",
    "# - 'batter_run_value_per_100'\n",
    "\n",
    "# We will also select 'swing_miss_percent' as our initial target variable\n",
    "\n",
    "# Selecting the relevant features\n",
    "selected_columns = [\n",
    "    'pitch_type', 'pitch_percent', 'swing_miss_percent', 'arm_angle', \n",
    "    'xbadiff', 'xobp', 'xslg', 'pitcher_run_value_per_100', 'batter_run_value_per_100'\n",
    "]\n",
    "\n",
    "data = data.dropna(subset=selected_columns)\n",
    "\n",
    "# Extracting the features and target variable\n",
    "features = data[selected_columns]\n",
    "target = data['swing_miss_percent']\n",
    "\n",
    "# One-hot encoding the categorical 'pitch_type' column to handle it in the model\n",
    "features_encoded = pd.get_dummies(features, columns=['pitch_type'], drop_first=True)\n",
    "\n",
    "# Splitting the data into training and testing sets for modeling\n",
    "from sklearn.model_selection import train_test_split\n",
    "\n",
    "X_train, X_test, y_train, y_test = train_test_split(features_encoded, target, test_size=0.2, random_state=42)\n",
    "\n",
    "# We will now train an initial regression model. I'll start with a Random Forest Regressor\n",
    "from sklearn.ensemble import RandomForestRegressor\n",
    "from sklearn.metrics import mean_squared_error\n",
    "\n",
    "# Initialize the model\n",
    "rf_model = RandomForestRegressor(random_state=42)\n",
    "\n",
    "# Train the model\n",
    "rf_model.fit(X_train, y_train)\n",
    "\n",
    "# Predict on the test set\n",
    "y_pred = rf_model.predict(X_test)\n",
    "\n",
    "# Calculate the mean squared error for performance evaluation\n",
    "mse = mean_squared_error(y_test, y_pred)\n",
    "mse\n"
   ]
  },
  {
   "cell_type": "code",
   "execution_count": 5,
   "id": "0460b437-6bb3-4ce8-a25c-7d48da6f933c",
   "metadata": {},
   "outputs": [
    {
     "name": "stdout",
     "output_type": "stream",
     "text": [
      "      Actual  Predicted\n",
      "538     38.7     38.722\n",
      "1822    26.6     26.595\n",
      "534     41.0     40.991\n",
      "2119    20.8     20.800\n",
      "561     50.0     50.000\n",
      "...      ...        ...\n",
      "744     39.2     39.204\n",
      "733     30.6     30.600\n",
      "2647    21.1     21.100\n",
      "4149     9.7      9.690\n",
      "3819    21.7     21.700\n",
      "\n",
      "[915 rows x 2 columns]\n"
     ]
    }
   ],
   "source": [
    "comparison = pd.DataFrame({\n",
    "    'Actual': y_test,\n",
    "    'Predicted': y_pred\n",
    "})\n",
    "\n",
    "print(comparison)"
   ]
  },
  {
   "cell_type": "code",
   "execution_count": 6,
   "id": "ecaa6a9a-2852-4986-9d5c-320d55b89a02",
   "metadata": {},
   "outputs": [
    {
     "data": {
      "text/html": [
       "<div>\n",
       "<style scoped>\n",
       "    .dataframe tbody tr th:only-of-type {\n",
       "        vertical-align: middle;\n",
       "    }\n",
       "\n",
       "    .dataframe tbody tr th {\n",
       "        vertical-align: top;\n",
       "    }\n",
       "\n",
       "    .dataframe thead th {\n",
       "        text-align: right;\n",
       "    }\n",
       "</style>\n",
       "<table border=\"1\" class=\"dataframe\">\n",
       "  <thead>\n",
       "    <tr style=\"text-align: right;\">\n",
       "      <th></th>\n",
       "      <th>swing_miss_percent</th>\n",
       "      <th>xobp</th>\n",
       "      <th>pitcher_run_value_per_100</th>\n",
       "      <th>Stuff+</th>\n",
       "    </tr>\n",
       "  </thead>\n",
       "  <tbody>\n",
       "    <tr>\n",
       "      <th>0</th>\n",
       "      <td>44.9</td>\n",
       "      <td>0.234</td>\n",
       "      <td>1.495762</td>\n",
       "      <td>189.707922</td>\n",
       "    </tr>\n",
       "    <tr>\n",
       "      <th>1</th>\n",
       "      <td>25.7</td>\n",
       "      <td>0.311</td>\n",
       "      <td>1.273859</td>\n",
       "      <td>172.284705</td>\n",
       "    </tr>\n",
       "    <tr>\n",
       "      <th>2</th>\n",
       "      <td>39.5</td>\n",
       "      <td>0.261</td>\n",
       "      <td>1.302039</td>\n",
       "      <td>171.132300</td>\n",
       "    </tr>\n",
       "    <tr>\n",
       "      <th>3</th>\n",
       "      <td>42.3</td>\n",
       "      <td>0.231</td>\n",
       "      <td>1.112724</td>\n",
       "      <td>162.073029</td>\n",
       "    </tr>\n",
       "    <tr>\n",
       "      <th>4</th>\n",
       "      <td>26.0</td>\n",
       "      <td>0.285</td>\n",
       "      <td>1.117130</td>\n",
       "      <td>156.173976</td>\n",
       "    </tr>\n",
       "  </tbody>\n",
       "</table>\n",
       "</div>"
      ],
      "text/plain": [
       "   swing_miss_percent   xobp  pitcher_run_value_per_100      Stuff+\n",
       "0                44.9  0.234                   1.495762  189.707922\n",
       "1                25.7  0.311                   1.273859  172.284705\n",
       "2                39.5  0.261                   1.302039  171.132300\n",
       "3                42.3  0.231                   1.112724  162.073029\n",
       "4                26.0  0.285                   1.117130  156.173976"
      ]
     },
     "execution_count": 6,
     "metadata": {},
     "output_type": "execute_result"
    }
   ],
   "source": [
    "#mean_whiff = data['swing_miss_percent'].mean()\n",
    "#data['Stuff+'] = (data['swing_miss_percent'] / mean_whiff) * 100\n",
    "\n",
    "# Normalizing the columns\n",
    "data['SwingMiss_norm'] = (data['swing_miss_percent'] / data['swing_miss_percent'].mean()) * 100\n",
    "data['xwOBA_norm'] = (1 - (data['xwoba'] / data['xwoba'].max())) * 100 # Inverse\n",
    "data['RunExp_norm'] = (1 - (data['run_exp'] / data['run_exp'].max())) * 100  # Inverse\n",
    "\n",
    "# Assigning weights\n",
    "w1, w2, w3 = .3, .2, .5\n",
    "\n",
    "# Calculating Stuff+\n",
    "data['Stuff+'] = (\n",
    "    w1 * data['SwingMiss_norm'] +\n",
    "    w2 * data['xwOBA_norm'] +\n",
    "    w3 * data['RunExp_norm']\n",
    ")\n",
    "\n",
    "# Display the first few rows of the Stuff+ calculation\n",
    "data[['swing_miss_percent', 'xobp', 'pitcher_run_value_per_100', 'Stuff+']].head()\n"
   ]
  },
  {
   "cell_type": "code",
   "execution_count": 7,
   "id": "535be298-1770-46d8-b94e-71ebb76f44d4",
   "metadata": {},
   "outputs": [],
   "source": [
    "# Sort the DataFrame by the 'Stuff+' column in descending order (higher Stuff+ is better)\n",
    "features_sorted = data.sort_values(by='Stuff+', ascending=False)\n",
    "features_sorted.to_csv('savant_data.csv', index=False)"
   ]
  },
  {
   "cell_type": "code",
   "execution_count": 8,
   "id": "e69d4dcc-8f45-44f8-879e-729e7448f1a8",
   "metadata": {},
   "outputs": [
    {
     "data": {
      "text/plain": [
       "\"\\ndata['SwingMiss_norm'] = (data['swing_miss_percent'] / data['swing_miss_percent'].mean()) * 100\\ndata['xwOBA_norm'] = ((data['xwoba'] / data['xwoba'].mean())) * 100 # Inverse\\ndata['RunExp_norm'] = ((data['run_exp'] / data['run_exp'].mean())) * 100  # Inverse\\n\\n# Assigning weights\\nw1, w2, w3 = .3, .2, .5\\n\\n# Calculating Stuff+\\ndata['Stuff+'] = (\\n    w1 * data['SwingMiss_norm'] +\\n    w2 * data['xwOBA_norm'] +\\n    w3 * data['RunExp_norm']\\n)\\n\\n# Display the first few rows of the Stuff+ calculation\\ndata[['swing_miss_percent', 'xobp', 'pitcher_run_value_per_100', 'Stuff+']].head()\\n\""
      ]
     },
     "execution_count": 8,
     "metadata": {},
     "output_type": "execute_result"
    }
   ],
   "source": [
    "'''\n",
    "data['SwingMiss_norm'] = (data['swing_miss_percent'] / data['swing_miss_percent'].mean()) * 100\n",
    "data['xwOBA_norm'] = ((data['xwoba'] / data['xwoba'].mean())) * 100 # Inverse\n",
    "data['RunExp_norm'] = ((data['run_exp'] / data['run_exp'].mean())) * 100  # Inverse\n",
    "\n",
    "# Assigning weights\n",
    "w1, w2, w3 = .3, .2, .5\n",
    "\n",
    "# Calculating Stuff+\n",
    "data['Stuff+'] = (\n",
    "    w1 * data['SwingMiss_norm'] +\n",
    "    w2 * data['xwOBA_norm'] +\n",
    "    w3 * data['RunExp_norm']\n",
    ")\n",
    "\n",
    "# Display the first few rows of the Stuff+ calculation\n",
    "data[['swing_miss_percent', 'xobp', 'pitcher_run_value_per_100', 'Stuff+']].head()\n",
    "'''"
   ]
  },
  {
   "cell_type": "code",
   "execution_count": 9,
   "id": "7e5867ad-90b4-432f-83d9-4438bb8913fd",
   "metadata": {},
   "outputs": [
    {
     "name": "stdout",
     "output_type": "stream",
     "text": [
      "0.0\n",
      "1.989\n",
      "0.32474518810148734\n",
      "-53.1\n",
      "79.3\n",
      "0.25581802274715626\n"
     ]
    }
   ],
   "source": [
    "print(data['xwoba'].min())\n",
    "print(data['xwoba'].max())\n",
    "print(data['xwoba'].mean())\n",
    "print(data['pitcher_run_exp'].min())\n",
    "print(data['pitcher_run_exp'].max())\n",
    "print(data['pitcher_run_exp'].mean())\n"
   ]
  },
  {
   "cell_type": "code",
   "execution_count": 10,
   "id": "622209cb-dc8b-47cf-9a4c-219750b1b74e",
   "metadata": {},
   "outputs": [
    {
     "name": "stdout",
     "output_type": "stream",
     "text": [
      "53.35581802274716\n"
     ]
    }
   ],
   "source": [
    "# different normailzation so all are around 60-150, average at 100\n",
    "data['pre_new_all_+'] = data['pitcher_run_exp'] - data['pitcher_run_exp'].min()\n",
    "print(data['pre_new_all_+'].mean())"
   ]
  },
  {
   "cell_type": "code",
   "execution_count": 11,
   "id": "8c979a2b-8644-4ef7-85fd-967bc2807889",
   "metadata": {},
   "outputs": [
    {
     "data": {
      "text/html": [
       "<div>\n",
       "<style scoped>\n",
       "    .dataframe tbody tr th:only-of-type {\n",
       "        vertical-align: middle;\n",
       "    }\n",
       "\n",
       "    .dataframe tbody tr th {\n",
       "        vertical-align: top;\n",
       "    }\n",
       "\n",
       "    .dataframe thead th {\n",
       "        text-align: right;\n",
       "    }\n",
       "</style>\n",
       "<table border=\"1\" class=\"dataframe\">\n",
       "  <thead>\n",
       "    <tr style=\"text-align: right;\">\n",
       "      <th></th>\n",
       "      <th>swing_miss_percent</th>\n",
       "      <th>xobp</th>\n",
       "      <th>pitcher_run_value_per_100</th>\n",
       "      <th>Stuff+</th>\n",
       "    </tr>\n",
       "  </thead>\n",
       "  <tbody>\n",
       "    <tr>\n",
       "      <th>0</th>\n",
       "      <td>44.9</td>\n",
       "      <td>0.234</td>\n",
       "      <td>1.495762</td>\n",
       "      <td>127.548710</td>\n",
       "    </tr>\n",
       "    <tr>\n",
       "      <th>1</th>\n",
       "      <td>25.7</td>\n",
       "      <td>0.311</td>\n",
       "      <td>1.273859</td>\n",
       "      <td>124.233678</td>\n",
       "    </tr>\n",
       "    <tr>\n",
       "      <th>2</th>\n",
       "      <td>39.5</td>\n",
       "      <td>0.261</td>\n",
       "      <td>1.302039</td>\n",
       "      <td>122.356066</td>\n",
       "    </tr>\n",
       "    <tr>\n",
       "      <th>3</th>\n",
       "      <td>42.3</td>\n",
       "      <td>0.231</td>\n",
       "      <td>1.112724</td>\n",
       "      <td>119.402701</td>\n",
       "    </tr>\n",
       "    <tr>\n",
       "      <th>4</th>\n",
       "      <td>26.0</td>\n",
       "      <td>0.285</td>\n",
       "      <td>1.117130</td>\n",
       "      <td>119.100327</td>\n",
       "    </tr>\n",
       "  </tbody>\n",
       "</table>\n",
       "</div>"
      ],
      "text/plain": [
       "   swing_miss_percent   xobp  pitcher_run_value_per_100      Stuff+\n",
       "0                44.9  0.234                   1.495762  127.548710\n",
       "1                25.7  0.311                   1.273859  124.233678\n",
       "2                39.5  0.261                   1.302039  122.356066\n",
       "3                42.3  0.231                   1.112724  119.402701\n",
       "4                26.0  0.285                   1.117130  119.100327"
      ]
     },
     "execution_count": 11,
     "metadata": {},
     "output_type": "execute_result"
    }
   ],
   "source": [
    "std_dev_pre = data['pitcher_run_exp'].std()\n",
    "std_dev_xwoba = data['xwoba'].std()\n",
    "std_dev_swm = data['swing_miss_percent'].std()\n",
    "\n",
    "# try with standard dev\n",
    "data['SwingMiss_norm'] = ((data['swing_miss_percent'] - data['swing_miss_percent'].mean()) / std_dev_swm) * 10\n",
    "data['xwOBA_norm'] = (((data['xwoba'].mean() - data['xwoba'])) / std_dev_xwoba) * 10\n",
    "data['RunExp_norm'] = ((data['pitcher_run_exp'] - data['pitcher_run_exp'].mean()) / std_dev_pre) * 5\n",
    "\n",
    "# Assigning weights\n",
    "w1, w2, w3 = .2, .3, .5\n",
    "\n",
    "# Calculating Stuff+\n",
    "data['Stuff+'] = (\n",
    "    w1 * data['SwingMiss_norm'] +\n",
    "    w2 * data['xwOBA_norm'] +\n",
    "    w3 * data['RunExp_norm']\n",
    ")\n",
    "\n",
    "data['Stuff+'] = (data['Stuff+'] + 100)\n",
    "\n",
    "# Display the first few rows of the Stuff+ calculation\n",
    "data[['swing_miss_percent', 'xobp', 'pitcher_run_value_per_100', 'Stuff+']].head()"
   ]
  },
  {
   "cell_type": "code",
   "execution_count": 12,
   "id": "9d521279-ab1d-4d03-8099-93fc55e523f5",
   "metadata": {},
   "outputs": [
    {
     "name": "stdout",
     "output_type": "stream",
     "text": [
      "100.0\n"
     ]
    }
   ],
   "source": [
    "features_sorted = data.sort_values(by='Stuff+', ascending=False)\n",
    "print(data['Stuff+'].mean())\n",
    "features_sorted.to_csv('savant_data.csv', index=False)"
   ]
  },
  {
   "cell_type": "code",
   "execution_count": 13,
   "id": "d4f4ab74-5bd2-4a19-b456-8336db326d47",
   "metadata": {},
   "outputs": [],
   "source": [
    "filtered_data = data[data['pitches'] >= 200]\n",
    "filtered_data = filtered_data.sort_values(by='Stuff+', ascending=False)\n",
    "filtered_data.to_csv('STUFF+Initial.csv', index=False)"
   ]
  },
  {
   "cell_type": "code",
   "execution_count": 14,
   "id": "ed86fb57-03df-4f2b-8219-027e7323b191",
   "metadata": {},
   "outputs": [
    {
     "name": "stdout",
     "output_type": "stream",
     "text": [
      "    pitches  player_id         player_name  total_pitches pitch_type  \\\n",
      "1      6224     669203      Burnes, Corbin          11943         FC   \n",
      "17     1278     621237      Alvarado, José           3720         FC   \n",
      "20     2802     661403     Clase, Emmanuel           4080         FC   \n",
      "39      318     596112  Stephenson, Robert           2444         FC   \n",
      "61     2028     502085    Robertson, David           3546         FC   \n",
      "\n",
      "    pitch_percent     ba    iso  babip    slg  ...  xobpdiff  xslgdiff  \\\n",
      "1            52.1  0.227  0.115  0.278  0.341  ...    -0.012    -0.022   \n",
      "17           34.4  0.136  0.063  0.327  0.199  ...     0.018     0.035   \n",
      "20           68.7  0.212  0.071  0.259  0.283  ...    -0.022    -0.040   \n",
      "39           13.0  0.101  0.152  0.143  0.253  ...    -0.020     0.008   \n",
      "61           57.2  0.196  0.084  0.283  0.280  ...    -0.005    -0.041   \n",
      "\n",
      "    wobadiff  swing_miss_percent  arm_angle      Stuff+  SwingMiss_norm  \\\n",
      "1     -0.015                25.7       41.2  124.233678        0.478152   \n",
      "17     0.021                50.9       62.3  115.891042       23.242636   \n",
      "20    -0.027                25.8       52.6  115.477889        0.568488   \n",
      "39    -0.008                59.9       49.1  113.746115       31.372808   \n",
      "61    -0.016                26.1       43.9  112.195596        0.839493   \n",
      "\n",
      "    xwOBA_norm  RunExp_norm  pre_new_all_+  \n",
      "1     1.992501    47.080595          132.4  \n",
      "17   13.506968    14.380849           77.5  \n",
      "20    4.810727    27.841947          100.1  \n",
      "39   13.345926     6.935552           65.0  \n",
      "61    3.119791    22.183521           90.6  \n",
      "\n",
      "[5 rows x 76 columns]\n"
     ]
    }
   ],
   "source": [
    "print(filtered_data[filtered_data['pitch_type'] == 'FC'].head())"
   ]
  },
  {
   "cell_type": "code",
   "execution_count": 15,
   "id": "a78b67ac-bb51-4dbc-bc82-ce4e9186adb7",
   "metadata": {},
   "outputs": [
    {
     "data": {
      "text/html": [
       "<div>\n",
       "<style scoped>\n",
       "    .dataframe tbody tr th:only-of-type {\n",
       "        vertical-align: middle;\n",
       "    }\n",
       "\n",
       "    .dataframe tbody tr th {\n",
       "        vertical-align: top;\n",
       "    }\n",
       "\n",
       "    .dataframe thead th {\n",
       "        text-align: right;\n",
       "    }\n",
       "</style>\n",
       "<table border=\"1\" class=\"dataframe\">\n",
       "  <thead>\n",
       "    <tr style=\"text-align: right;\">\n",
       "      <th></th>\n",
       "      <th>swing_miss_percent</th>\n",
       "      <th>ba</th>\n",
       "      <th>launch_speed</th>\n",
       "      <th>Unhittable+</th>\n",
       "    </tr>\n",
       "  </thead>\n",
       "  <tbody>\n",
       "    <tr>\n",
       "      <th>0</th>\n",
       "      <td>44.9</td>\n",
       "      <td>0.169</td>\n",
       "      <td>86.3</td>\n",
       "      <td>108.181238</td>\n",
       "    </tr>\n",
       "    <tr>\n",
       "      <th>1</th>\n",
       "      <td>25.7</td>\n",
       "      <td>0.227</td>\n",
       "      <td>87.8</td>\n",
       "      <td>100.603362</td>\n",
       "    </tr>\n",
       "    <tr>\n",
       "      <th>2</th>\n",
       "      <td>39.5</td>\n",
       "      <td>0.169</td>\n",
       "      <td>85.6</td>\n",
       "      <td>107.052060</td>\n",
       "    </tr>\n",
       "    <tr>\n",
       "      <th>3</th>\n",
       "      <td>42.3</td>\n",
       "      <td>0.174</td>\n",
       "      <td>84.6</td>\n",
       "      <td>108.541903</td>\n",
       "    </tr>\n",
       "    <tr>\n",
       "      <th>4</th>\n",
       "      <td>26.0</td>\n",
       "      <td>0.211</td>\n",
       "      <td>91.3</td>\n",
       "      <td>98.411275</td>\n",
       "    </tr>\n",
       "  </tbody>\n",
       "</table>\n",
       "</div>"
      ],
      "text/plain": [
       "   swing_miss_percent     ba  launch_speed  Unhittable+\n",
       "0                44.9  0.169          86.3   108.181238\n",
       "1                25.7  0.227          87.8   100.603362\n",
       "2                39.5  0.169          85.6   107.052060\n",
       "3                42.3  0.174          84.6   108.541903\n",
       "4                26.0  0.211          91.3    98.411275"
      ]
     },
     "execution_count": 15,
     "metadata": {},
     "output_type": "execute_result"
    }
   ],
   "source": [
    "std_dev_ba = data['ba'].std()\n",
    "std_dev_ls = data['launch_speed'].std()\n",
    "std_dev_swm = data['swing_miss_percent'].std()\n",
    "\n",
    "# try with standard dev\n",
    "data['SwingMiss_norm'] = ((data['swing_miss_percent'] - data['swing_miss_percent'].mean()) / std_dev_swm) * 10\n",
    "data['ls_norm'] = ((data['launch_speed'].mean() - data['launch_speed']) / std_dev_ls) * 10\n",
    "data['ba_norm'] = ((data['ba'].mean() - data['ba']) / std_dev_ba) * 5\n",
    "\n",
    "# Assigning weights\n",
    "w1, w2, w3 = 1/3, 1/3, 1/3\n",
    "\n",
    "# Calculating Stuff+\n",
    "data['Unhittable+'] = (\n",
    "    w1 * data['SwingMiss_norm'] +\n",
    "    w2 * data['ls_norm'] +\n",
    "    w3 * data['ba_norm']\n",
    ")\n",
    "\n",
    "data['Unhittable+'] = (data['Unhittable+'] + 100)\n",
    "\n",
    "# Display the first few rows of the Stuff+ calculation\n",
    "data[['swing_miss_percent', 'ba', 'launch_speed', 'Unhittable+']].head()"
   ]
  },
  {
   "cell_type": "code",
   "execution_count": 16,
   "id": "cd568397-bfd1-4142-b9df-37e71994f7c2",
   "metadata": {},
   "outputs": [
    {
     "data": {
      "text/plain": [
       "np.float64(100.0)"
      ]
     },
     "execution_count": 16,
     "metadata": {},
     "output_type": "execute_result"
    }
   ],
   "source": [
    "filtered_data_unhit = data[data['pitches'] >= 200]\n",
    "filtered_data_unhit = filtered_data_unhit.sort_values(by='Unhittable+', ascending=False)\n",
    "filtered_data_unhit.to_csv('Unhittable+Initial.csv', index=False)\n",
    "data['Unhittable+'].mean()"
   ]
  },
  {
   "cell_type": "code",
   "execution_count": 107,
   "id": "965b2c1f-b616-490b-b14b-f8e97f3e927d",
   "metadata": {},
   "outputs": [
    {
     "data": {
      "text/plain": [
       "np.float64(23.364712764815533)"
      ]
     },
     "execution_count": 107,
     "metadata": {},
     "output_type": "execute_result"
    }
   ],
   "source": [
    "# Stuff Model!\n",
    "# First, let's select the key features for the \"Stuff+\" model as discussed:\n",
    "# - 'pitch_type'\n",
    "# - 'velocity'\n",
    "# - 'api_break_z_induced'\n",
    "# - 'api_break_x_arm'\n",
    "# - 'release_extension'\n",
    "# - 'spin_rate'\n",
    "# - 'release_pos_x'\n",
    "# - 'release_pos_z'\n",
    "# - 'x_diff'  \n",
    "# - 'z_diff'\n",
    "# - 'Stuff+'\n",
    "\n",
    "# Adding New Variables, finding primary fastball\n",
    "#if (\n",
    "data['release_pos_x_norm'] = data['release_pos_x']\n",
    "data['release_pos_x_norm'] = data['release_pos_x_norm'].apply(lambda x: -x if x < 0 else x)\n",
    "\n",
    "# Selecting the relevant features\n",
    "selected_columns = [\n",
    "    'pitch_type', 'velocity', 'api_break_z_induced', 'api_break_x_arm', 'release_extension', 'spin_rate', 'release_pos_x_norm', 'release_pos_z', 'x_diff', 'z_diff'  \n",
    "]\n",
    "\n",
    "data = data.dropna(subset=selected_columns)\n",
    "\n",
    "# Extracting the features and target variable\n",
    "features = data[selected_columns]\n",
    "target = data['Stuff+']\n",
    "\n",
    "# One-hot encoding the categorical 'pitch_type' column to handle it in the model\n",
    "features_encoded = pd.get_dummies(features, columns=['pitch_type'], drop_first=True)\n",
    "\n",
    "# Splitting the data into training and testing sets for modeling\n",
    "from sklearn.model_selection import train_test_split\n",
    "\n",
    "X_train, X_test, y_train, y_test = train_test_split(features_encoded, target, test_size=0.2, random_state=42)\n",
    "\n",
    "# We will now train an initial regression model. I'll start with a Random Forest Regressor\n",
    "from sklearn.ensemble import RandomForestRegressor\n",
    "from sklearn.metrics import mean_squared_error\n",
    "\n",
    "# Initialize the model\n",
    "rf_model = RandomForestRegressor(random_state=42)\n",
    "\n",
    "# Train the model\n",
    "rf_model.fit(X_train, y_train)\n",
    "\n",
    "# Predict on the test set\n",
    "y_pred = rf_model.predict(X_test)\n",
    "\n",
    "# Calculate the mean squared error for performance evaluation\n",
    "mse = mean_squared_error(y_test, y_pred)\n",
    "mse\n"
   ]
  },
  {
   "cell_type": "code",
   "execution_count": 108,
   "id": "115266c7-7c23-4317-89bf-215cbd4bfcd9",
   "metadata": {},
   "outputs": [
    {
     "name": "stdout",
     "output_type": "stream",
     "text": [
      "          Actual   Predicted\n",
      "3232   97.492353   99.885158\n",
      "692   104.951778   99.984860\n",
      "1259  102.810011  100.130473\n",
      "497   105.928896  101.898679\n",
      "549   105.661751  102.191947\n",
      "...          ...         ...\n",
      "4354   92.081564   97.180854\n",
      "334   107.143383  103.049149\n",
      "3156   97.689569  104.989850\n",
      "921   103.993751   99.472701\n",
      "679   105.009200  100.112090\n",
      "\n",
      "[881 rows x 2 columns]\n",
      "117.47678452132428\n",
      "108.29931102093965\n",
      "100.24486546163781\n",
      "100.00213898497891\n",
      "57.49178720691503\n",
      "90.26473920244052\n"
     ]
    }
   ],
   "source": [
    "comparison = pd.DataFrame({\n",
    "    'Actual': y_test,\n",
    "    'Predicted': y_pred\n",
    "})\n",
    "\n",
    "print(comparison)\n",
    "print(y_test.max())\n",
    "print(y_pred.max())\n",
    "print(y_test.mean())\n",
    "print(y_pred.mean())\n",
    "print(y_test.min())\n",
    "print(y_pred.min())"
   ]
  },
  {
   "cell_type": "code",
   "execution_count": 114,
   "id": "da38b149-f74a-4bea-9e97-71aaf9f4d618",
   "metadata": {},
   "outputs": [
    {
     "name": "stdout",
     "output_type": "stream",
     "text": [
      "[98.58621968]\n"
     ]
    }
   ],
   "source": [
    "my_slider = [82, -.08333, -.91667, 6.5, 2800, 2.55, 6.02, 0, 0, False, False, False, False, False, False, False, False, False, False, True, False, False]\n",
    "#a_slider = rf_model.predict([my_slider], columns=features_encoded)\n",
    "\n",
    "import warnings\n",
    "warnings.filterwarnings(\"ignore\", message=\"X does not have valid feature names\")\n",
    "a_slider = rf_model.predict([my_slider])\n",
    "print(a_slider)"
   ]
  },
  {
   "cell_type": "code",
   "execution_count": 115,
   "id": "5d7a00c9-07d5-49ba-9452-77686820195e",
   "metadata": {},
   "outputs": [
    {
     "name": "stdout",
     "output_type": "stream",
     "text": [
      "[97.22943488]\n"
     ]
    }
   ],
   "source": [
    "my_fastball = [92, 1.4, 1.2, 6.5, 2300, 2.55, 6.02, 0, 0, False, False, False, True, False, False, False, False, False, False, False, False, False]\n",
    "#a_slider = rf_model.predict([my_slider], columns=features_encoded)\n",
    "\n",
    "import warnings\n",
    "warnings.filterwarnings(\"ignore\", message=\"X does not have valid feature names\")\n",
    "a_fastball = rf_model.predict([my_fastball])\n",
    "print(a_fastball)"
   ]
  },
  {
   "cell_type": "code",
   "execution_count": 116,
   "id": "5c1410ef-745b-42a9-8ff9-e17d936f5cc9",
   "metadata": {},
   "outputs": [
    {
     "name": "stdout",
     "output_type": "stream",
     "text": [
      "Mean Squared Error: 23.423670872441974\n"
     ]
    }
   ],
   "source": [
    "# Importing XGBoost\n",
    "from xgboost import XGBRegressor\n",
    "from sklearn.metrics import mean_squared_error\n",
    "\n",
    "# Initialize the XGBoost model\n",
    "xgb_model = XGBRegressor(\n",
    "    random_state=42,  # Ensure reproducibility\n",
    "    n_estimators=300,  # Number of trees (default: 100)\n",
    "    learning_rate=0.01,  # Step size shrinkage (default: 0.3)\n",
    "    max_depth=4,       # Maximum tree depth (default: 6)\n",
    "    objective='reg:squarederror'  # Regression objective\n",
    ")\n",
    "\n",
    "# Train the XGBoost model\n",
    "xgb_model.fit(X_train, y_train)\n",
    "\n",
    "# Predict on the test set\n",
    "y_pred = xgb_model.predict(X_test)\n",
    "\n",
    "# Calculate the mean squared error for performance evaluation\n",
    "mse = mean_squared_error(y_test, y_pred)\n",
    "print(f\"Mean Squared Error: {mse}\")\n"
   ]
  },
  {
   "cell_type": "code",
   "execution_count": 117,
   "id": "9134360f-831d-4428-9c89-1da600410192",
   "metadata": {},
   "outputs": [
    {
     "name": "stdout",
     "output_type": "stream",
     "text": [
      "117.47678452132428\n",
      "104.93587\n",
      "100.24486546163781\n",
      "99.96469\n",
      "57.49178720691503\n",
      "91.662056\n"
     ]
    }
   ],
   "source": [
    "comparison = pd.DataFrame({\n",
    "    'Actual': y_test,\n",
    "    'Predicted': y_pred\n",
    "})\n",
    "\n",
    "print(y_test.max())\n",
    "print(y_pred.max())\n",
    "print(y_test.mean())\n",
    "print(y_pred.mean())\n",
    "print(y_test.min())\n",
    "print(y_pred.min())"
   ]
  },
  {
   "cell_type": "code",
   "execution_count": 118,
   "id": "dc58f251-9892-49c4-a04b-d48272ae8a26",
   "metadata": {},
   "outputs": [
    {
     "name": "stdout",
     "output_type": "stream",
     "text": [
      "Fitting 3 folds for each of 27 candidates, totalling 81 fits\n",
      "[CV] END ..learning_rate=0.01, max_depth=4, n_estimators=100; total time=   0.1s\n",
      "[CV] END ..learning_rate=0.01, max_depth=4, n_estimators=100; total time=   0.1s\n",
      "[CV] END ..learning_rate=0.01, max_depth=4, n_estimators=100; total time=   0.1s\n",
      "[CV] END ..learning_rate=0.01, max_depth=4, n_estimators=200; total time=   0.2s\n",
      "[CV] END ..learning_rate=0.01, max_depth=4, n_estimators=200; total time=   0.1s\n",
      "[CV] END ..learning_rate=0.01, max_depth=4, n_estimators=200; total time=   0.1s\n",
      "[CV] END ..learning_rate=0.01, max_depth=4, n_estimators=300; total time=   0.2s\n",
      "[CV] END ..learning_rate=0.01, max_depth=4, n_estimators=300; total time=   0.2s\n",
      "[CV] END ..learning_rate=0.01, max_depth=4, n_estimators=300; total time=   0.2s\n",
      "[CV] END ..learning_rate=0.01, max_depth=6, n_estimators=100; total time=   0.1s\n",
      "[CV] END ..learning_rate=0.01, max_depth=6, n_estimators=100; total time=   0.1s\n",
      "[CV] END ..learning_rate=0.01, max_depth=6, n_estimators=100; total time=   0.1s\n",
      "[CV] END ..learning_rate=0.01, max_depth=6, n_estimators=200; total time=   0.2s\n",
      "[CV] END ..learning_rate=0.01, max_depth=6, n_estimators=200; total time=   0.2s\n",
      "[CV] END ..learning_rate=0.01, max_depth=6, n_estimators=200; total time=   0.2s\n",
      "[CV] END ..learning_rate=0.01, max_depth=6, n_estimators=300; total time=   0.3s\n",
      "[CV] END ..learning_rate=0.01, max_depth=6, n_estimators=300; total time=   0.3s\n",
      "[CV] END ..learning_rate=0.01, max_depth=6, n_estimators=300; total time=   0.3s\n",
      "[CV] END ..learning_rate=0.01, max_depth=8, n_estimators=100; total time=   0.2s\n",
      "[CV] END ..learning_rate=0.01, max_depth=8, n_estimators=100; total time=   0.2s\n",
      "[CV] END ..learning_rate=0.01, max_depth=8, n_estimators=100; total time=   0.2s\n",
      "[CV] END ..learning_rate=0.01, max_depth=8, n_estimators=200; total time=   0.4s\n",
      "[CV] END ..learning_rate=0.01, max_depth=8, n_estimators=200; total time=   0.4s\n",
      "[CV] END ..learning_rate=0.01, max_depth=8, n_estimators=200; total time=   0.4s\n",
      "[CV] END ..learning_rate=0.01, max_depth=8, n_estimators=300; total time=   0.5s\n",
      "[CV] END ..learning_rate=0.01, max_depth=8, n_estimators=300; total time=   0.5s\n",
      "[CV] END ..learning_rate=0.01, max_depth=8, n_estimators=300; total time=   0.6s\n",
      "[CV] END ...learning_rate=0.1, max_depth=4, n_estimators=100; total time=   0.1s\n",
      "[CV] END ...learning_rate=0.1, max_depth=4, n_estimators=100; total time=   0.1s\n",
      "[CV] END ...learning_rate=0.1, max_depth=4, n_estimators=100; total time=   0.1s\n",
      "[CV] END ...learning_rate=0.1, max_depth=4, n_estimators=200; total time=   0.1s\n",
      "[CV] END ...learning_rate=0.1, max_depth=4, n_estimators=200; total time=   0.1s\n",
      "[CV] END ...learning_rate=0.1, max_depth=4, n_estimators=200; total time=   0.2s\n",
      "[CV] END ...learning_rate=0.1, max_depth=4, n_estimators=300; total time=   0.2s\n",
      "[CV] END ...learning_rate=0.1, max_depth=4, n_estimators=300; total time=   0.3s\n",
      "[CV] END ...learning_rate=0.1, max_depth=4, n_estimators=300; total time=   0.2s\n",
      "[CV] END ...learning_rate=0.1, max_depth=6, n_estimators=100; total time=   0.1s\n",
      "[CV] END ...learning_rate=0.1, max_depth=6, n_estimators=100; total time=   0.1s\n",
      "[CV] END ...learning_rate=0.1, max_depth=6, n_estimators=100; total time=   0.1s\n",
      "[CV] END ...learning_rate=0.1, max_depth=6, n_estimators=200; total time=   0.3s\n",
      "[CV] END ...learning_rate=0.1, max_depth=6, n_estimators=200; total time=   0.2s\n",
      "[CV] END ...learning_rate=0.1, max_depth=6, n_estimators=200; total time=   0.3s\n",
      "[CV] END ...learning_rate=0.1, max_depth=6, n_estimators=300; total time=   0.3s\n",
      "[CV] END ...learning_rate=0.1, max_depth=6, n_estimators=300; total time=   0.3s\n",
      "[CV] END ...learning_rate=0.1, max_depth=6, n_estimators=300; total time=   0.3s\n",
      "[CV] END ...learning_rate=0.1, max_depth=8, n_estimators=100; total time=   0.4s\n",
      "[CV] END ...learning_rate=0.1, max_depth=8, n_estimators=100; total time=   0.2s\n",
      "[CV] END ...learning_rate=0.1, max_depth=8, n_estimators=100; total time=   0.2s\n",
      "[CV] END ...learning_rate=0.1, max_depth=8, n_estimators=200; total time=   0.3s\n",
      "[CV] END ...learning_rate=0.1, max_depth=8, n_estimators=200; total time=   0.3s\n",
      "[CV] END ...learning_rate=0.1, max_depth=8, n_estimators=200; total time=   0.4s\n",
      "[CV] END ...learning_rate=0.1, max_depth=8, n_estimators=300; total time=   0.5s\n",
      "[CV] END ...learning_rate=0.1, max_depth=8, n_estimators=300; total time=   0.5s\n",
      "[CV] END ...learning_rate=0.1, max_depth=8, n_estimators=300; total time=   0.5s\n",
      "[CV] END ...learning_rate=0.2, max_depth=4, n_estimators=100; total time=   0.1s\n",
      "[CV] END ...learning_rate=0.2, max_depth=4, n_estimators=100; total time=   0.1s\n",
      "[CV] END ...learning_rate=0.2, max_depth=4, n_estimators=100; total time=   0.1s\n",
      "[CV] END ...learning_rate=0.2, max_depth=4, n_estimators=200; total time=   0.2s\n",
      "[CV] END ...learning_rate=0.2, max_depth=4, n_estimators=200; total time=   0.2s\n",
      "[CV] END ...learning_rate=0.2, max_depth=4, n_estimators=200; total time=   0.1s\n",
      "[CV] END ...learning_rate=0.2, max_depth=4, n_estimators=300; total time=   0.3s\n",
      "[CV] END ...learning_rate=0.2, max_depth=4, n_estimators=300; total time=   0.3s\n",
      "[CV] END ...learning_rate=0.2, max_depth=4, n_estimators=300; total time=   0.3s\n",
      "[CV] END ...learning_rate=0.2, max_depth=6, n_estimators=100; total time=   0.1s\n",
      "[CV] END ...learning_rate=0.2, max_depth=6, n_estimators=100; total time=   0.1s\n",
      "[CV] END ...learning_rate=0.2, max_depth=6, n_estimators=100; total time=   0.1s\n",
      "[CV] END ...learning_rate=0.2, max_depth=6, n_estimators=200; total time=   0.2s\n",
      "[CV] END ...learning_rate=0.2, max_depth=6, n_estimators=200; total time=   0.2s\n",
      "[CV] END ...learning_rate=0.2, max_depth=6, n_estimators=200; total time=   0.3s\n",
      "[CV] END ...learning_rate=0.2, max_depth=6, n_estimators=300; total time=   0.4s\n",
      "[CV] END ...learning_rate=0.2, max_depth=6, n_estimators=300; total time=   0.4s\n",
      "[CV] END ...learning_rate=0.2, max_depth=6, n_estimators=300; total time=   0.3s\n",
      "[CV] END ...learning_rate=0.2, max_depth=8, n_estimators=100; total time=   0.2s\n",
      "[CV] END ...learning_rate=0.2, max_depth=8, n_estimators=100; total time=   0.2s\n",
      "[CV] END ...learning_rate=0.2, max_depth=8, n_estimators=100; total time=   0.2s\n",
      "[CV] END ...learning_rate=0.2, max_depth=8, n_estimators=200; total time=   0.4s\n",
      "[CV] END ...learning_rate=0.2, max_depth=8, n_estimators=200; total time=   0.3s\n",
      "[CV] END ...learning_rate=0.2, max_depth=8, n_estimators=200; total time=   0.4s\n",
      "[CV] END ...learning_rate=0.2, max_depth=8, n_estimators=300; total time=   0.5s\n",
      "[CV] END ...learning_rate=0.2, max_depth=8, n_estimators=300; total time=   0.5s\n",
      "[CV] END ...learning_rate=0.2, max_depth=8, n_estimators=300; total time=   0.6s\n",
      "Best Parameters: {'learning_rate': 0.01, 'max_depth': 4, 'n_estimators': 300}\n"
     ]
    }
   ],
   "source": [
    "from sklearn.model_selection import GridSearchCV\n",
    "\n",
    "# Define the parameter grid\n",
    "param_grid = {\n",
    "    'n_estimators': [100, 200, 300],\n",
    "    'learning_rate': [0.01, 0.1, 0.2],\n",
    "    'max_depth': [4, 6, 8]\n",
    "}\n",
    "\n",
    "# Initialize the model\n",
    "xgb_model = XGBRegressor(random_state=42, objective='reg:squarederror')\n",
    "\n",
    "# Perform Grid Search\n",
    "grid_search = GridSearchCV(estimator=xgb_model, param_grid=param_grid, cv=3, scoring='neg_mean_squared_error', verbose=2)\n",
    "grid_search.fit(X_train, y_train)\n",
    "\n",
    "# Get the best parameters and model\n",
    "best_params = grid_search.best_params_\n",
    "print(f\"Best Parameters: {best_params}\")\n",
    "\n",
    "best_xgb_model = grid_search.best_estimator_\n"
   ]
  },
  {
   "cell_type": "code",
   "execution_count": 119,
   "id": "3b822a0f-469e-47a2-8a20-1dac93491128",
   "metadata": {},
   "outputs": [
    {
     "name": "stdout",
     "output_type": "stream",
     "text": [
      "   pitches  player_id      player_name  total_pitches pitch_type  \\\n",
      "0     4861     656302     Cease, Dylan          12527         SL   \n",
      "1     6224     669203   Burnes, Corbin          11943         FC   \n",
      "2     4610     450203  Morton, Charlie          11523         CU   \n",
      "3     4189     592332   Gausman, Kevin          11722         FS   \n",
      "4     5534     543037     Cole, Gerrit          11058         FF   \n",
      "\n",
      "   pitch_percent     ba    iso  babip    slg  ...  RunExp_norm  pre_new_all_+  \\\n",
      "0           38.8  0.169  0.098  0.262  0.267  ...    43.149478          125.8   \n",
      "1           52.1  0.227  0.115  0.278  0.341  ...    47.080595          132.4   \n",
      "2           40.0  0.169  0.098  0.267  0.267  ...    35.585056          113.1   \n",
      "3           35.7  0.174  0.096  0.287  0.270  ...    27.603697           99.7   \n",
      "4           50.0  0.211  0.168  0.277  0.379  ...    36.657179          114.9   \n",
      "\n",
      "    ls_norm   ba_norm  Unhittable+  release_pos_x_norm  fastball_x  \\\n",
      "0  3.306550  3.414644   108.181238                1.55        1.34   \n",
      "1  0.112477  1.219457   100.603362                0.77        0.69   \n",
      "2  4.797118  3.414644   107.052060                2.42        2.27   \n",
      "3  6.926500  3.225403   108.541903                2.56        2.41   \n",
      "4 -7.340360  1.825026    98.411275                1.94        1.94   \n",
      "\n",
      "   fastball_z  x_diff  z_diff  \n",
      "0        6.32    0.21   -0.20  \n",
      "1        6.01    0.08   -0.07  \n",
      "2        5.50    0.15   -0.10  \n",
      "3        5.90    0.15   -0.13  \n",
      "4        5.84    0.00    0.00  \n",
      "\n",
      "[5 rows x 84 columns]\n"
     ]
    }
   ],
   "source": [
    "print(data.head())"
   ]
  },
  {
   "cell_type": "code",
   "execution_count": null,
   "id": "ab6c56a0-50b9-472e-87af-ddb2a6a65206",
   "metadata": {},
   "outputs": [],
   "source": []
  }
 ],
 "metadata": {
  "kernelspec": {
   "display_name": "Python 3 (ipykernel)",
   "language": "python",
   "name": "python3"
  },
  "language_info": {
   "codemirror_mode": {
    "name": "ipython",
    "version": 3
   },
   "file_extension": ".py",
   "mimetype": "text/x-python",
   "name": "python",
   "nbconvert_exporter": "python",
   "pygments_lexer": "ipython3",
   "version": "3.12.5"
  }
 },
 "nbformat": 4,
 "nbformat_minor": 5
}
